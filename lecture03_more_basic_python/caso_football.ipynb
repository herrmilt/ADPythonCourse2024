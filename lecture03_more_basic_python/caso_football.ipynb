{
 "cells": [
  {
   "cell_type": "markdown",
   "id": "186e5627",
   "metadata": {},
   "source": [
    "# Resultados de futbol entre 1872 y 2017\n",
    "Fuente: Kaggle"
   ]
  },
  {
   "cell_type": "code",
   "execution_count": 1,
   "id": "5431dfb8",
   "metadata": {
    "scrolled": true
   },
   "outputs": [
    {
     "data": {
      "text/plain": [
       "[['date',\n",
       "  'home_team',\n",
       "  'away_team',\n",
       "  'home_score',\n",
       "  'away_score',\n",
       "  'tournament',\n",
       "  'city',\n",
       "  'country',\n",
       "  'neutral'],\n",
       " ['1872-11-30',\n",
       "  'Scotland',\n",
       "  'England',\n",
       "  '0',\n",
       "  '0',\n",
       "  'Friendly',\n",
       "  'Glasgow',\n",
       "  'Scotland',\n",
       "  'FALSE']]"
      ]
     },
     "execution_count": 1,
     "metadata": {},
     "output_type": "execute_result"
    }
   ],
   "source": [
    "import csv\n",
    "with open(\"data/footbal_results.csv\") as f:\n",
    "    reader = csv.reader(f)\n",
    "    raw_data = [r for r in reader]\n",
    "raw_data[:2]"
   ]
  },
  {
   "cell_type": "code",
   "execution_count": 2,
   "id": "ddee4a84",
   "metadata": {
    "scrolled": true
   },
   "outputs": [
    {
     "data": {
      "text/plain": [
       "[(datetime.datetime(1872, 11, 30, 0, 0),\n",
       "  'Scotland',\n",
       "  'England',\n",
       "  0,\n",
       "  0,\n",
       "  'Friendly',\n",
       "  'Glasgow',\n",
       "  'Scotland',\n",
       "  True),\n",
       " (datetime.datetime(1873, 3, 8, 0, 0),\n",
       "  'England',\n",
       "  'Scotland',\n",
       "  4,\n",
       "  2,\n",
       "  'Friendly',\n",
       "  'London',\n",
       "  'England',\n",
       "  True)]"
      ]
     },
     "execution_count": 2,
     "metadata": {},
     "output_type": "execute_result"
    }
   ],
   "source": [
    "# Paso 1. Transformar los datos apropiadamente\n",
    "\n",
    "from datetime import datetime\n",
    "data = []\n",
    "for date, home_team, away_team, home_score, \\\n",
    "    away_score, tournament,city,country,neutral in raw_data[1:]:\n",
    "    data.append((\n",
    "        datetime.strptime(date, '%Y-%m-%d'),\n",
    "        home_team,\n",
    "        away_team,\n",
    "        int(home_score),\n",
    "        int(away_score),\n",
    "        tournament,\n",
    "        city,\n",
    "        country,\n",
    "        bool(neutral)\n",
    "    ))\n",
    "data[:2]    "
   ]
  },
  {
   "cell_type": "code",
   "execution_count": 3,
   "id": "195066ce",
   "metadata": {},
   "outputs": [
    {
     "data": {
      "text/plain": [
       "{'date': 0,\n",
       " 'home_team': 1,\n",
       " 'away_team': 2,\n",
       " 'home_score': 3,\n",
       " 'away_score': 4,\n",
       " 'tournament': 5,\n",
       " 'city': 6,\n",
       " 'country': 7,\n",
       " 'neutral': 8}"
      ]
     },
     "execution_count": 3,
     "metadata": {},
     "output_type": "execute_result"
    }
   ],
   "source": [
    "col_idx = {}\n",
    "idx = 0\n",
    "for col_name in raw_data[0]:\n",
    "    col_idx[col_name] = idx\n",
    "    idx += 1\n",
    "col_idx"
   ]
  },
  {
   "cell_type": "code",
   "execution_count": 4,
   "id": "c7ca5fbf",
   "metadata": {},
   "outputs": [
    {
     "data": {
      "text/plain": [
       "{'ABCS Tournament',\n",
       " 'AFC Asian Cup',\n",
       " 'AFC Asian Cup qualification',\n",
       " 'AFC Challenge Cup',\n",
       " 'AFC Challenge Cup qualification',\n",
       " 'AFF Championship',\n",
       " 'AFF Championship qualification',\n",
       " 'African Cup of Nations',\n",
       " 'African Cup of Nations qualification',\n",
       " 'African Nations Championship',\n",
       " 'African Nations Championship qualifying',\n",
       " 'Amílcar Cabral Cup',\n",
       " 'Atlantic Cup',\n",
       " 'Atlantic Heritage Cup',\n",
       " 'Balkan Cup',\n",
       " 'Baltic Cup',\n",
       " 'Brazil Independence Cup',\n",
       " 'British Championship',\n",
       " 'CCCF Championship',\n",
       " 'CECAFA Cup',\n",
       " 'CFU Caribbean Cup',\n",
       " 'CFU Caribbean Cup qualification',\n",
       " 'CONCACAF Championship',\n",
       " 'CONCACAF Championship qualification',\n",
       " 'CONCACAF Nations League',\n",
       " 'CONCACAF Nations League qualifying',\n",
       " 'CONIFA European Football Cup',\n",
       " 'CONIFA World Football Cup',\n",
       " 'COSAFA Cup',\n",
       " 'Confederations Cup',\n",
       " 'Copa América',\n",
       " 'Copa América qualification',\n",
       " 'Copa Artigas',\n",
       " \"Copa Bernardo O'Higgins\",\n",
       " 'Copa Carlos Dittborn',\n",
       " 'Copa Chevallier Boutell',\n",
       " 'Copa Félix Bogado',\n",
       " 'Copa Juan Pinto Durán',\n",
       " 'Copa Lipton',\n",
       " 'Copa Newton',\n",
       " 'Copa Oswaldo Cruz',\n",
       " 'Copa Paz del Chaco',\n",
       " 'Copa Premio Honor Argentino',\n",
       " 'Copa Premio Honor Uruguayo',\n",
       " 'Copa Ramón Castilla',\n",
       " 'Copa Rio Branco',\n",
       " 'Copa Roca',\n",
       " 'Copa del Pacífico',\n",
       " 'Cyprus International Tournament',\n",
       " 'Dragon Cup',\n",
       " 'Dunhill Cup',\n",
       " 'Dynasty Cup',\n",
       " 'EAFF Championship',\n",
       " 'ELF Cup',\n",
       " 'FIFA World Cup',\n",
       " 'FIFA World Cup qualification',\n",
       " 'FIFI Wild Cup',\n",
       " 'Friendly',\n",
       " 'GaNEFo',\n",
       " 'Gold Cup',\n",
       " 'Gold Cup qualification',\n",
       " 'Gulf Cup',\n",
       " 'Indonesia Tournament',\n",
       " 'Inter Games Football Tournament',\n",
       " 'Intercontinental Cup',\n",
       " 'International Cup',\n",
       " 'Island Games',\n",
       " 'Jordan International Tournament',\n",
       " 'King Hassan II Tournament',\n",
       " \"King's Cup\",\n",
       " 'Kirin Cup',\n",
       " 'Korea Cup',\n",
       " 'Lunar New Year Cup',\n",
       " 'Malta International Tournament',\n",
       " 'Merdeka Tournament',\n",
       " 'Merlion Cup',\n",
       " 'Millennium Cup',\n",
       " 'Mundialito',\n",
       " 'NAFU Championship',\n",
       " 'Nations Cup',\n",
       " 'Nehru Cup',\n",
       " 'Nile Basin Tournament',\n",
       " 'Nordic Championship',\n",
       " 'OSN Cup',\n",
       " 'Oceania Nations Cup',\n",
       " 'Oceania Nations Cup qualification',\n",
       " 'Pacific Games',\n",
       " 'Pan American Championship',\n",
       " \"Prime Minister's Cup\",\n",
       " 'Rous Cup',\n",
       " 'SAFF Cup',\n",
       " 'SKN Football Festival',\n",
       " 'Simba Tournament',\n",
       " 'South Pacific Games',\n",
       " 'Tournoi de France',\n",
       " 'UAFA Cup',\n",
       " 'UAFA Cup qualification',\n",
       " 'UDEAC Cup',\n",
       " 'UEFA Euro',\n",
       " 'UEFA Euro qualification',\n",
       " 'UEFA Nations League',\n",
       " 'UNCAF Cup',\n",
       " 'UNIFFAC Cup',\n",
       " 'USA Cup',\n",
       " 'United Arab Emirates Friendship Tournament',\n",
       " 'VFF Cup',\n",
       " 'Vietnam Independence Cup',\n",
       " 'Viva World Cup',\n",
       " 'WAFF Championship',\n",
       " 'West African Cup',\n",
       " 'Windward Islands Tournament',\n",
       " 'World Unity Cup'}"
      ]
     },
     "execution_count": 4,
     "metadata": {},
     "output_type": "execute_result"
    }
   ],
   "source": [
    "# Que torneos cubre esta base de datos\n",
    "def get_column(data, col_idx):\n",
    "    result = []\n",
    "    for d in data:\n",
    "        result.append(d[col_idx])\n",
    "    return result\n",
    "\n",
    "set(get_column(data, col_idx['tournament']))"
   ]
  },
  {
   "cell_type": "code",
   "execution_count": 5,
   "id": "f96b2c20",
   "metadata": {},
   "outputs": [
    {
     "data": {
      "text/plain": [
       "21"
      ]
     },
     "execution_count": 5,
     "metadata": {},
     "output_type": "execute_result"
    }
   ],
   "source": [
    "# Cual es la mayor cantidad de goles que ha anotado un equipo como visitante\n",
    "max(get_column(data, col_idx['away_score']))"
   ]
  },
  {
   "cell_type": "code",
   "execution_count": 6,
   "id": "088032f7",
   "metadata": {
    "scrolled": true
   },
   "outputs": [
    {
     "data": {
      "text/plain": [
       "[(datetime.datetime(2005, 3, 11, 0, 0),\n",
       "  'Guam',\n",
       "  'North Korea',\n",
       "  0,\n",
       "  21,\n",
       "  'EAFF Championship',\n",
       "  'Taipei',\n",
       "  'Chinese Taipei',\n",
       "  True)]"
      ]
     },
     "execution_count": 6,
     "metadata": {},
     "output_type": "execute_result"
    }
   ],
   "source": [
    "# A quién se los anotó?\n",
    "def get_rows(data, col_name, col_value):\n",
    "    result = []\n",
    "    for d in data:\n",
    "        if d[col_idx[col_name]] == col_value:\n",
    "            result.append(d)\n",
    "    return result\n",
    "\n",
    "get_rows(data, 'away_score', 21)"
   ]
  },
  {
   "cell_type": "code",
   "execution_count": 7,
   "id": "87daf295",
   "metadata": {},
   "outputs": [
    {
     "data": {
      "text/plain": [
       "(6, 12, 18)"
      ]
     },
     "execution_count": 7,
     "metadata": {},
     "output_type": "execute_result"
    }
   ],
   "source": [
    "# Cuantos goles ha anotado Cuba en la copa de oro en la historia\n",
    "rows = get_rows(get_rows(data, 'home_team', 'Cuba'), 'tournament', 'Gold Cup')\n",
    "goals_home = sum(get_column(rows, col_idx['home_score']))\n",
    "rows = get_rows(get_rows(data, 'away_team', 'Cuba'), 'tournament', 'Gold Cup')\n",
    "goals_away = sum(get_column(rows, col_idx['away_score']))\n",
    "goals_home, goals_away, goals_home + goals_away"
   ]
  },
  {
   "cell_type": "code",
   "execution_count": 8,
   "id": "0019c3cc",
   "metadata": {},
   "outputs": [
    {
     "data": {
      "text/plain": [
       "[['Scotland', 0],\n",
       " ['England', 4],\n",
       " ['Scotland', 2],\n",
       " ['England', 2],\n",
       " ['Scotland', 3]]"
      ]
     },
     "execution_count": 8,
     "metadata": {},
     "output_type": "execute_result"
    }
   ],
   "source": [
    "# Pais con mas goles en la copa mundial de la FIFA\n",
    "def get_cols(data, col_names):\n",
    "    result = []\n",
    "    for d in data:\n",
    "        row = []\n",
    "        for col_name in col_names:\n",
    "            row.append(d[col_idx[col_name]])\n",
    "        result.append(row)\n",
    "    return result\n",
    "\n",
    "get_cols(data, ['home_team', 'home_score'])[:5]"
   ]
  },
  {
   "cell_type": "code",
   "execution_count": 9,
   "id": "bf42c1fd",
   "metadata": {},
   "outputs": [
    {
     "data": {
      "text/plain": [
       "[['Belgium', 0], ['France', 4], ['Brazil', 1], ['Peru', 1], ['Argentina', 1]]"
      ]
     },
     "execution_count": 9,
     "metadata": {},
     "output_type": "execute_result"
    }
   ],
   "source": [
    "# Seleccionemos los goles\n",
    "fifa_rows = get_rows(data, 'tournament', 'FIFA World Cup')\n",
    "goals_home = get_cols(fifa_rows, ['home_team', 'home_score'])\n",
    "goals_away = get_cols(fifa_rows, ['away_team', 'away_score'])\n",
    "all_goals = goals_home + goals_away\n",
    "all_goals[:5]"
   ]
  },
  {
   "cell_type": "code",
   "execution_count": 10,
   "id": "a77d796e",
   "metadata": {},
   "outputs": [],
   "source": [
    "# Ahora sumemos por pais ...\n",
    "goals_country = {}\n",
    "for country, count in all_goals:\n",
    "    goals_country[country] = goals_country.get(country, 0) + count"
   ]
  },
  {
   "cell_type": "code",
   "execution_count": 11,
   "id": "9dc3d4d5",
   "metadata": {
    "scrolled": true
   },
   "outputs": [
    {
     "data": {
      "text/plain": [
       "{'Belgium': 68,\n",
       " 'France': 120,\n",
       " 'Brazil': 229,\n",
       " 'Peru': 21,\n",
       " 'Argentina': 137,\n",
       " 'Chile': 40,\n",
       " 'Bolivia': 1,\n",
       " 'Paraguay': 30,\n",
       " 'Uruguay': 87,\n",
       " 'Austria': 43,\n",
       " 'Czechoslovakia': 44,\n",
       " 'Egypt': 5,\n",
       " 'Italy': 128,\n",
       " 'Netherlands': 86,\n",
       " 'Germany': 226,\n",
       " 'Cuba': 5,\n",
       " 'Hungary': 87,\n",
       " 'Spain': 99,\n",
       " 'Switzerland': 50,\n",
       " 'Mexico': 60,\n",
       " 'England': 91,\n",
       " 'Sweden': 80,\n",
       " 'Scotland': 25,\n",
       " 'South Korea': 34,\n",
       " 'Colombia': 32,\n",
       " 'Russia': 77,\n",
       " 'Bulgaria': 22,\n",
       " 'North Korea': 6,\n",
       " 'Portugal': 49,\n",
       " 'Israel': 1,\n",
       " 'Morocco': 14,\n",
       " 'El Salvador': 1,\n",
       " 'DR Congo': 0,\n",
       " 'German DR': 5,\n",
       " 'Poland': 46,\n",
       " 'Yugoslavia': 55,\n",
       " 'Haiti': 2,\n",
       " 'Australia': 13,\n",
       " 'Iran': 9,\n",
       " 'Algeria': 13,\n",
       " 'Honduras': 3,\n",
       " 'Canada': 0,\n",
       " 'Northern Ireland': 13,\n",
       " 'Denmark': 30,\n",
       " 'Iraq': 1,\n",
       " 'United Arab Emirates': 2,\n",
       " 'United States': 37,\n",
       " 'Costa Rica': 19,\n",
       " 'Cameroon': 18,\n",
       " 'Republic of Ireland': 10,\n",
       " 'Norway': 7,\n",
       " 'Nigeria': 23,\n",
       " 'Romania': 30,\n",
       " 'Saudi Arabia': 11,\n",
       " 'Greece': 5,\n",
       " 'Jamaica': 3,\n",
       " 'Serbia': 11,\n",
       " 'South Africa': 11,\n",
       " 'Japan': 20,\n",
       " 'Croatia': 35,\n",
       " 'China PR': 0,\n",
       " 'Tunisia': 13,\n",
       " 'Senegal': 11,\n",
       " 'Slovenia': 5,\n",
       " 'Ecuador': 10,\n",
       " 'Turkey': 20,\n",
       " 'Trinidad and Tobago': 0,\n",
       " 'Angola': 1,\n",
       " 'Czech Republic': 3,\n",
       " 'Togo': 1,\n",
       " 'Ivory Coast': 13,\n",
       " 'Ghana': 13,\n",
       " 'Ukraine': 5,\n",
       " 'New Zealand': 4,\n",
       " 'Slovakia': 5,\n",
       " 'Bosnia and Herzegovina': 4,\n",
       " 'Iceland': 2,\n",
       " 'Panama': 2,\n",
       " 'Indonesia': 0,\n",
       " 'Wales': 4,\n",
       " 'Kuwait': 2}"
      ]
     },
     "execution_count": 11,
     "metadata": {},
     "output_type": "execute_result"
    }
   ],
   "source": [
    "goals_country"
   ]
  },
  {
   "cell_type": "code",
   "execution_count": 12,
   "id": "1f60dfbe",
   "metadata": {
    "scrolled": true
   },
   "outputs": [
    {
     "data": {
      "text/plain": [
       "[(229, 'Brazil'),\n",
       " (226, 'Germany'),\n",
       " (137, 'Argentina'),\n",
       " (128, 'Italy'),\n",
       " (120, 'France'),\n",
       " (99, 'Spain'),\n",
       " (91, 'England'),\n",
       " (87, 'Uruguay'),\n",
       " (87, 'Hungary'),\n",
       " (86, 'Netherlands')]"
      ]
     },
     "execution_count": 12,
     "metadata": {},
     "output_type": "execute_result"
    }
   ],
   "source": [
    "# y ordenemos ... pero los dict no tienen orden ...\n",
    "goals_country_tuples = []\n",
    "for k, v in goals_country.items():\n",
    "    goals_country_tuples.append((v, k))\n",
    "goals_country_tuples.sort(reverse=True)\n",
    "goals_country_tuples[:10]"
   ]
  },
  {
   "cell_type": "code",
   "execution_count": 13,
   "id": "7458c0f4",
   "metadata": {
    "scrolled": true
   },
   "outputs": [
    {
     "data": {
      "text/plain": [
       "{'Belgium': 48,\n",
       " 'France': 66,\n",
       " 'Brazil': 109,\n",
       " 'Peru': 18,\n",
       " 'Argentina': 81,\n",
       " 'Chile': 33,\n",
       " 'Bolivia': 6,\n",
       " 'Paraguay': 27,\n",
       " 'Uruguay': 56,\n",
       " 'Austria': 29,\n",
       " 'Czechoslovakia': 30,\n",
       " 'Egypt': 7,\n",
       " 'Italy': 83,\n",
       " 'Netherlands': 50,\n",
       " 'Germany': 109,\n",
       " 'Cuba': 3,\n",
       " 'Hungary': 32,\n",
       " 'Spain': 63,\n",
       " 'Switzerland': 37,\n",
       " 'Mexico': 57,\n",
       " 'England': 69,\n",
       " 'Sweden': 51,\n",
       " 'Scotland': 23,\n",
       " 'South Korea': 34,\n",
       " 'Colombia': 22,\n",
       " 'Russia': 45,\n",
       " 'Bulgaria': 26,\n",
       " 'North Korea': 7,\n",
       " 'Portugal': 30,\n",
       " 'Israel': 3,\n",
       " 'Morocco': 16,\n",
       " 'El Salvador': 6,\n",
       " 'DR Congo': 3,\n",
       " 'German DR': 6,\n",
       " 'Poland': 34,\n",
       " 'Yugoslavia': 33,\n",
       " 'Haiti': 3,\n",
       " 'Australia': 16,\n",
       " 'Iran': 15,\n",
       " 'Algeria': 13,\n",
       " 'Honduras': 9,\n",
       " 'Canada': 3,\n",
       " 'Northern Ireland': 13,\n",
       " 'Denmark': 20,\n",
       " 'Iraq': 3,\n",
       " 'United Arab Emirates': 3,\n",
       " 'United States': 33,\n",
       " 'Costa Rica': 18,\n",
       " 'Cameroon': 23,\n",
       " 'Republic of Ireland': 13,\n",
       " 'Norway': 8,\n",
       " 'Nigeria': 21,\n",
       " 'Romania': 21,\n",
       " 'Saudi Arabia': 16,\n",
       " 'Greece': 10,\n",
       " 'Jamaica': 3,\n",
       " 'Serbia': 13,\n",
       " 'South Africa': 9,\n",
       " 'Japan': 21,\n",
       " 'Croatia': 23,\n",
       " 'China PR': 3,\n",
       " 'Tunisia': 15,\n",
       " 'Senegal': 8,\n",
       " 'Slovenia': 6,\n",
       " 'Ecuador': 10,\n",
       " 'Turkey': 10,\n",
       " 'Trinidad and Tobago': 3,\n",
       " 'Angola': 3,\n",
       " 'Czech Republic': 3,\n",
       " 'Togo': 3,\n",
       " 'Ivory Coast': 9,\n",
       " 'Ghana': 12,\n",
       " 'Ukraine': 5,\n",
       " 'New Zealand': 6,\n",
       " 'Slovakia': 4,\n",
       " 'Bosnia and Herzegovina': 3,\n",
       " 'Iceland': 3,\n",
       " 'Panama': 3,\n",
       " 'Indonesia': 1,\n",
       " 'Wales': 5,\n",
       " 'Kuwait': 3}"
      ]
     },
     "execution_count": 13,
     "metadata": {},
     "output_type": "execute_result"
    }
   ],
   "source": [
    "# Quien tiene mas goles por partido\n",
    "country_count = {}\n",
    "for country, _ in all_goals:\n",
    "    country_count[country] = country_count.get(country, 0) + 1\n",
    "country_count"
   ]
  },
  {
   "cell_type": "code",
   "execution_count": 14,
   "id": "a0e950cc",
   "metadata": {},
   "outputs": [
    {
     "data": {
      "text/plain": [
       "[(2.71875, 'Hungary'),\n",
       " (2.1009174311926606, 'Brazil'),\n",
       " (2.073394495412844, 'Germany'),\n",
       " (2.0, 'Turkey'),\n",
       " (1.8181818181818181, 'France'),\n",
       " (1.72, 'Netherlands'),\n",
       " (1.711111111111111, 'Russia'),\n",
       " (1.691358024691358, 'Argentina'),\n",
       " (1.6666666666666667, 'Yugoslavia'),\n",
       " (1.6666666666666667, 'Cuba'),\n",
       " (1.6333333333333333, 'Portugal'),\n",
       " (1.5714285714285714, 'Spain'),\n",
       " (1.5686274509803921, 'Sweden'),\n",
       " (1.5535714285714286, 'Uruguay'),\n",
       " (1.5421686746987953, 'Italy')]"
      ]
     },
     "execution_count": 14,
     "metadata": {},
     "output_type": "execute_result"
    }
   ],
   "source": [
    "# Ahora hay que \"dividir\" un diccionario por otro ....\n",
    "ratio_tuples = []\n",
    "for k, v in goals_country.items():\n",
    "    ratio_tuples.append((v / country_count[k], k))\n",
    "ratio_tuples.sort(reverse=True)\n",
    "ratio_tuples[:15]"
   ]
  }
 ],
 "metadata": {
  "kernelspec": {
   "display_name": "Python [conda env:python_lectures]",
   "language": "python",
   "name": "conda-env-python_lectures-py"
  },
  "language_info": {
   "codemirror_mode": {
    "name": "ipython",
    "version": 3
   },
   "file_extension": ".py",
   "mimetype": "text/x-python",
   "name": "python",
   "nbconvert_exporter": "python",
   "pygments_lexer": "ipython3",
   "version": "3.8.16"
  }
 },
 "nbformat": 4,
 "nbformat_minor": 5
}
