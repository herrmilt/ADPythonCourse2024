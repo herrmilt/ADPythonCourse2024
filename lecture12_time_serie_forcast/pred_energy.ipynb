{
 "cells": [
  {
   "cell_type": "markdown",
   "id": "04477e6d",
   "metadata": {},
   "source": [
    "# Predicting Energy Consumption with XGBoost\n",
    "\n",
    "Regression analysis can be used to model the relationship between a dependent variable and one or more independent variables. \n",
    "- In the context of time series analysis, regression can be used to model the relationship between a time series variable and one or more predictor variables."
   ]
  },
  {
   "cell_type": "code",
   "execution_count": null,
   "id": "18b31090",
   "metadata": {},
   "outputs": [],
   "source": [
    "import pandas as pd\n",
    "import numpy as np\n",
    "import matplotlib.pyplot as plt\n",
    "import seaborn as sns\n",
    "\n",
    "import xgboost as xgb\n",
    "from sklearn.metrics import mean_squared_error\n",
    "color_pal = sns.color_palette()\n",
    "plt.style.use('fivethirtyeight')"
   ]
  },
  {
   "cell_type": "markdown",
   "id": "52415354",
   "metadata": {},
   "source": [
    "Lets read and show the data"
   ]
  },
  {
   "cell_type": "code",
   "execution_count": null,
   "id": "f04a1223",
   "metadata": {
    "scrolled": true
   },
   "outputs": [],
   "source": [
    "df = pd.read_csv('data/PJME_hourly.csv')\n",
    "df = df.set_index(\"Datetime\")\n",
    "df.head()"
   ]
  },
  {
   "cell_type": "code",
   "execution_count": null,
   "id": "e49c4694",
   "metadata": {
    "scrolled": false
   },
   "outputs": [],
   "source": [
    "df.plot(figsize=(8,4), style='.')\n",
    "plt.show()"
   ]
  },
  {
   "cell_type": "code",
   "execution_count": null,
   "id": "6b1a7cdf",
   "metadata": {},
   "outputs": [],
   "source": [
    "df.index"
   ]
  },
  {
   "cell_type": "code",
   "execution_count": null,
   "id": "39fcc26e",
   "metadata": {
    "scrolled": false
   },
   "outputs": [],
   "source": [
    "df.index = pd.to_datetime(df.index)\n",
    "df.plot(figsize=(8,4), style='.')\n",
    "plt.show()"
   ]
  },
  {
   "cell_type": "code",
   "execution_count": null,
   "id": "804c74b6",
   "metadata": {
    "scrolled": true
   },
   "outputs": [],
   "source": [
    "df[(df.index >= '2006-01-01') & (df.index <= '2006-12-31')].plot()"
   ]
  },
  {
   "cell_type": "code",
   "execution_count": null,
   "id": "2fcaa783",
   "metadata": {},
   "outputs": [],
   "source": [
    "df[(df.index >= '2006-01-01') & (df.index <= '2006-01-31')].plot()"
   ]
  },
  {
   "cell_type": "code",
   "execution_count": null,
   "id": "ea31a59f",
   "metadata": {
    "scrolled": false
   },
   "outputs": [],
   "source": [
    "df.loc[(df.index > '01-01-2010') & (df.index < '01-08-2010')] \\\n",
    "    .plot(figsize=(15, 5), title='Week Of Data')\n",
    "plt.show()"
   ]
  },
  {
   "cell_type": "markdown",
   "id": "565f9d6a",
   "metadata": {},
   "source": [
    "## Train / Test Split\n",
    "\n",
    "Unlike traditional train/test splitting, where the data is randomly divided into training and testing sets, in time series analysis, the data is split in chronological order, such that the training set includes data from earlier time periods and the testing set includes data from later time periods."
   ]
  },
  {
   "cell_type": "code",
   "execution_count": null,
   "id": "254237e7",
   "metadata": {
    "scrolled": true
   },
   "outputs": [],
   "source": [
    "train = df.loc[df.index < '01-01-2015']\n",
    "test = df.loc[df.index >= '01-01-2015']\n",
    "\n",
    "fig, ax = plt.subplots(figsize=(15, 5))\n",
    "train.plot(ax=ax, label='Training Set', title='Data Train/Test Split')\n",
    "test.plot(ax=ax, label='Test Set')\n",
    "ax.axvline('01-01-2015', color='black', ls='--')\n",
    "ax.legend(['Training Set', 'Test Set'])\n",
    "plt.show()"
   ]
  },
  {
   "cell_type": "markdown",
   "id": "1f07ac96",
   "metadata": {},
   "source": [
    "Now, lets create some features that are relevant to the forecasting, and that are related to the date"
   ]
  },
  {
   "cell_type": "code",
   "execution_count": null,
   "id": "008105c0",
   "metadata": {
    "scrolled": false
   },
   "outputs": [],
   "source": [
    "def create_features(df):\n",
    "    \"\"\"\n",
    "    Create time series features based on time series index.\n",
    "    \"\"\"\n",
    "    df = df.copy()\n",
    "    df['hour'] = df.index.hour\n",
    "    df['dayofweek'] = df.index.dayofweek\n",
    "    df['quarter'] = df.index.quarter\n",
    "    df['month'] = df.index.month\n",
    "    df['year'] = df.index.year\n",
    "    df['dayofyear'] = df.index.dayofyear\n",
    "    df['dayofmonth'] = df.index.day\n",
    "    df['weekofyear'] = df.index.isocalendar().week\n",
    "    return df\n",
    "\n",
    "df = create_features(df)\n",
    "df.head()"
   ]
  },
  {
   "cell_type": "markdown",
   "id": "b67fda3a",
   "metadata": {},
   "source": [
    "### Visualize our Feature / Target Relationship"
   ]
  },
  {
   "cell_type": "code",
   "execution_count": null,
   "id": "211f06da",
   "metadata": {
    "scrolled": false
   },
   "outputs": [],
   "source": [
    "fig, ax = plt.subplots(figsize=(8, 4))\n",
    "sns.boxplot(data=df, x='hour', y='PJME_MW')\n",
    "ax.set_title('MW by Hour')\n",
    "plt.show()"
   ]
  },
  {
   "cell_type": "code",
   "execution_count": null,
   "id": "b6c7ae0a",
   "metadata": {},
   "outputs": [],
   "source": [
    "fig, ax = plt.subplots(figsize=(10, 8))\n",
    "sns.boxplot(data=df, x='month', y='PJME_MW', palette='Blues')\n",
    "ax.set_title('MW by Month')\n",
    "plt.show()"
   ]
  },
  {
   "cell_type": "markdown",
   "id": "a8ac7d29",
   "metadata": {},
   "source": [
    "## Create our Model"
   ]
  },
  {
   "cell_type": "code",
   "execution_count": null,
   "id": "dc5085d4",
   "metadata": {},
   "outputs": [],
   "source": [
    "train = create_features(train)\n",
    "test = create_features(test)\n",
    "\n",
    "FEATURES = ['dayofyear', 'hour', 'dayofweek', 'quarter', 'month', 'year']\n",
    "TARGET = 'PJME_MW'\n",
    "\n",
    "X_train = train[FEATURES]\n",
    "y_train = train[TARGET]\n",
    "\n",
    "X_test = test[FEATURES]\n",
    "y_test = test[TARGET]"
   ]
  },
  {
   "cell_type": "markdown",
   "id": "389e5efd",
   "metadata": {},
   "source": [
    "We will use XGB regressor, a very powerfull classifier based on decision trees and boosting"
   ]
  },
  {
   "cell_type": "code",
   "execution_count": null,
   "id": "c86429e9",
   "metadata": {
    "scrolled": true
   },
   "outputs": [],
   "source": [
    "reg = xgb.XGBRegressor(n_estimators=1000, early_stopping_rounds=50)\n",
    "reg.fit(X_train, y_train,\n",
    "        eval_set=[(X_train, y_train), (X_test, y_test)],        \n",
    "        verbose=True)"
   ]
  },
  {
   "cell_type": "markdown",
   "id": "ed70710c",
   "metadata": {},
   "source": [
    "You can see that the error in the validation set starts to increase, so we have overfit the model.\n",
    "\n",
    "Lets try with a small learning rate to move slower .."
   ]
  },
  {
   "cell_type": "code",
   "execution_count": null,
   "id": "8ed702ad",
   "metadata": {},
   "outputs": [],
   "source": [
    "reg = xgb.XGBRegressor(n_estimators=1000, \n",
    "                       early_stopping_rounds=50, learning_rate=0.001)\n",
    "reg.fit(X_train, y_train,\n",
    "        eval_set=[(X_train, y_train), (X_test, y_test)],        \n",
    "        verbose=100)"
   ]
  },
  {
   "cell_type": "markdown",
   "id": "94c4b8b2",
   "metadata": {},
   "source": [
    "Lets move now a little faster in order to find a better solution"
   ]
  },
  {
   "cell_type": "code",
   "execution_count": null,
   "id": "3131e0b0",
   "metadata": {},
   "outputs": [],
   "source": [
    "reg = xgb.XGBRegressor(n_estimators=1000, \n",
    "                       early_stopping_rounds=50, learning_rate=0.01)\n",
    "reg.fit(X_train, y_train,\n",
    "        eval_set=[(X_train, y_train), (X_test, y_test)],        \n",
    "        verbose=100)"
   ]
  },
  {
   "cell_type": "markdown",
   "id": "4d760ace",
   "metadata": {},
   "source": [
    "## Feature Importance"
   ]
  },
  {
   "cell_type": "code",
   "execution_count": null,
   "id": "3b91e356",
   "metadata": {},
   "outputs": [],
   "source": [
    "reg.feature_importances_"
   ]
  },
  {
   "cell_type": "markdown",
   "id": "64dc6613",
   "metadata": {},
   "source": [
    "Values are meaningless, so lets improve the visualization by creating a new dataframe"
   ]
  },
  {
   "cell_type": "code",
   "execution_count": null,
   "id": "d1db40a9",
   "metadata": {
    "scrolled": false
   },
   "outputs": [],
   "source": [
    "fi = pd.DataFrame(data=reg.feature_importances_,\n",
    "             index=reg.feature_names_in_,\n",
    "             columns=['importance'])\n",
    "fi.sort_values('importance').plot(kind='barh', title='Feature Importance')\n",
    "plt.show()"
   ]
  },
  {
   "cell_type": "markdown",
   "id": "777046b7",
   "metadata": {},
   "source": [
    "Lets see the correlations between features ..."
   ]
  },
  {
   "cell_type": "code",
   "execution_count": null,
   "id": "13001996",
   "metadata": {
    "scrolled": false
   },
   "outputs": [],
   "source": [
    "correlation_matrix = df.corr()\n",
    "plt.figure(figsize=(8, 6))\n",
    "sns.heatmap(correlation_matrix, annot=True, cmap='coolwarm', fmt='.1f')"
   ]
  },
  {
   "cell_type": "markdown",
   "id": "344c88e8",
   "metadata": {},
   "source": [
    "## Forecast on Test"
   ]
  },
  {
   "cell_type": "code",
   "execution_count": null,
   "id": "c973f7d2",
   "metadata": {},
   "outputs": [],
   "source": [
    "y_pred = reg.predict(X_test)\n",
    "y_pred"
   ]
  },
  {
   "cell_type": "markdown",
   "id": "a67e3692",
   "metadata": {},
   "source": [
    "For a better visualization, lets add the predicted values to the original dataset"
   ]
  },
  {
   "cell_type": "code",
   "execution_count": null,
   "id": "1a2d9481",
   "metadata": {
    "scrolled": true
   },
   "outputs": [],
   "source": [
    "test['prediction'] = y_pred\n",
    "df = df.merge(test[['prediction']], how='left', left_index=True, right_index=True)\n",
    "ax = df[['PJME_MW']].plot(figsize=(15, 5))\n",
    "df['prediction'].plot(ax=ax, style='.')\n",
    "plt.legend(['Truth Data', 'Predictions'])\n",
    "ax.set_title('Raw Dat and Prediction')\n",
    "plt.show()"
   ]
  },
  {
   "cell_type": "markdown",
   "id": "a02d3bb2",
   "metadata": {},
   "source": [
    "In a week .."
   ]
  },
  {
   "cell_type": "code",
   "execution_count": null,
   "id": "ea4bba9b",
   "metadata": {},
   "outputs": [],
   "source": [
    "ax = df.loc[(df.index > '04-01-2018') & (df.index < '04-08-2018')]['PJME_MW'] \\\n",
    "    .plot(figsize=(15, 5), title='Week Of Data')\n",
    "df.loc[(df.index > '04-01-2018') & (df.index < '04-08-2018')]['prediction'] \\\n",
    "    .plot(style='.')\n",
    "plt.legend(['Truth Data','Prediction'])\n",
    "plt.show()"
   ]
  },
  {
   "cell_type": "markdown",
   "id": "14737c66",
   "metadata": {},
   "source": [
    "Results are not as good as they can be, but the regressor have managed to capture the seasonality.\n",
    "\n",
    "## Score (RMSE)"
   ]
  },
  {
   "cell_type": "code",
   "execution_count": null,
   "id": "a9f226b0",
   "metadata": {},
   "outputs": [],
   "source": [
    "score = np.sqrt(mean_squared_error(test['PJME_MW'], test['prediction']))\n",
    "print(f'RMSE Score on Test set: {score:0.2f}')"
   ]
  },
  {
   "cell_type": "markdown",
   "id": "26cf03aa",
   "metadata": {},
   "source": [
    "Look at the worst predicted days ... where they hollidays?"
   ]
  },
  {
   "cell_type": "code",
   "execution_count": null,
   "id": "4e1ddb7e",
   "metadata": {
    "scrolled": true
   },
   "outputs": [],
   "source": [
    "test['error'] = np.abs(test[TARGET] - test['prediction'])\n",
    "test['date'] = test.index.date\n",
    "test.groupby(['date'])['error'].mean().sort_values(ascending=False).head(10)"
   ]
  },
  {
   "cell_type": "code",
   "execution_count": null,
   "id": "d9d9db1f",
   "metadata": {
    "scrolled": false
   },
   "outputs": [],
   "source": [
    "test.error.plot()\n",
    "ax.set_title('Errors per day')\n",
    "plt.show()"
   ]
  },
  {
   "cell_type": "markdown",
   "id": "d6974ebb",
   "metadata": {},
   "source": [
    "Lets zoom the errors in a year"
   ]
  },
  {
   "cell_type": "code",
   "execution_count": null,
   "id": "ef82ebad",
   "metadata": {
    "scrolled": false
   },
   "outputs": [],
   "source": [
    "test.error.loc[(test.index > '01-01-2017') & (test.index < '01-01-2018')].plot()\n",
    "ax.set_title('Errors per day in a year')\n",
    "plt.show()"
   ]
  },
  {
   "cell_type": "markdown",
   "id": "4650347a",
   "metadata": {},
   "source": [
    "And zoom in a week"
   ]
  },
  {
   "cell_type": "code",
   "execution_count": null,
   "id": "97354173",
   "metadata": {
    "scrolled": false
   },
   "outputs": [],
   "source": [
    "test.error.loc[(test.index > '04-01-2018') & (test.index < '04-08-2018')].plot()\n",
    "ax.set_title('Errors per day in a week')\n",
    "plt.show()"
   ]
  },
  {
   "cell_type": "markdown",
   "id": "dda9ad52",
   "metadata": {},
   "source": [
    "Plenty of room to improve:\n",
    "- More robust cross validation\n",
    "- Add more features (weather forecast, holidays)"
   ]
  },
  {
   "cell_type": "markdown",
   "id": "2f1e81cb",
   "metadata": {},
   "source": [
    "## Outlier Analysis and removal"
   ]
  },
  {
   "cell_type": "code",
   "execution_count": null,
   "id": "5335f8f7",
   "metadata": {},
   "outputs": [],
   "source": [
    "df['PJME_MW'].plot(kind='hist', bins=500)"
   ]
  },
  {
   "cell_type": "markdown",
   "id": "59c9ded2",
   "metadata": {},
   "source": [
    "Lets first consider those points with largest values"
   ]
  },
  {
   "cell_type": "code",
   "execution_count": null,
   "id": "50ccb240",
   "metadata": {
    "scrolled": false
   },
   "outputs": [],
   "source": [
    "df.query('PJME_MW > 50_000')['PJME_MW'] \\\n",
    "    .plot(style='.',\n",
    "          figsize=(15, 5),\n",
    "          color=color_pal[5],\n",
    "          title='Outliers')"
   ]
  },
  {
   "cell_type": "markdown",
   "id": "4854c209",
   "metadata": {},
   "source": [
    "They are consistent with the times of the year where the demand is higher.\n",
    "\n",
    "Now, lets see the days with lowest consumption"
   ]
  },
  {
   "cell_type": "code",
   "execution_count": null,
   "id": "f7a293ee",
   "metadata": {
    "scrolled": false
   },
   "outputs": [],
   "source": [
    "df.query('PJME_MW < 20_000')['PJME_MW'] \\\n",
    "    .plot(style='.',\n",
    "          figsize=(15, 5),\n",
    "          color=color_pal[5],\n",
    "          title='Outliers')"
   ]
  },
  {
   "cell_type": "markdown",
   "id": "17bb6901",
   "metadata": {},
   "source": [
    "Most of the points are consistent, but some of them have a nasty behavior. \n",
    "- Maybe they are real values, but not usefull for predicting in the future."
   ]
  },
  {
   "cell_type": "code",
   "execution_count": null,
   "id": "e37774eb",
   "metadata": {
    "scrolled": false
   },
   "outputs": [],
   "source": [
    "df.query('PJME_MW < 19_000')['PJME_MW'] \\\n",
    "    .plot(style='.',\n",
    "          figsize=(15, 5),\n",
    "          color=color_pal[5],\n",
    "          title='Outliers')"
   ]
  },
  {
   "cell_type": "code",
   "execution_count": null,
   "id": "f5aea321",
   "metadata": {},
   "outputs": [],
   "source": [
    "df = df.query('PJME_MW > 19_000').copy()"
   ]
  },
  {
   "cell_type": "markdown",
   "id": "502f9c5f",
   "metadata": {},
   "source": [
    "## Time Series Cross Validation\n",
    "\n",
    "The traditional k-fold cross-validation approach is not suitable for time series data because it assumes that the data is independently and identically distributed, which is not true for time series data. \n",
    "- Instead, we need to use a modified form of cross-validation that takes into account the temporal dependencies in the data."
   ]
  },
  {
   "cell_type": "code",
   "execution_count": null,
   "id": "5c998aa1",
   "metadata": {},
   "outputs": [],
   "source": [
    "from sklearn.model_selection import TimeSeriesSplit\n",
    "\n",
    "tss = TimeSeriesSplit(n_splits=5, test_size=24*365*1, gap=0)\n",
    "df = df.sort_index()"
   ]
  },
  {
   "cell_type": "code",
   "execution_count": null,
   "id": "48735515",
   "metadata": {},
   "outputs": [],
   "source": [
    "tss.split(df)"
   ]
  },
  {
   "cell_type": "markdown",
   "id": "69864f56",
   "metadata": {},
   "source": [
    "It is generator ..."
   ]
  },
  {
   "cell_type": "code",
   "execution_count": null,
   "id": "a52c488e",
   "metadata": {},
   "outputs": [],
   "source": [
    "iterator = iter(tss.split(df))\n",
    "train_range, test_range = next(iterator)\n",
    "print(train_range)\n",
    "print(test_range)"
   ]
  },
  {
   "cell_type": "code",
   "execution_count": null,
   "id": "9094df7a",
   "metadata": {},
   "outputs": [],
   "source": [
    "train_range, test_range = next(iterator)\n",
    "print(train_range)\n",
    "print(test_range)"
   ]
  },
  {
   "cell_type": "code",
   "execution_count": null,
   "id": "d0216c41",
   "metadata": {},
   "outputs": [],
   "source": [
    "train_range, test_range = next(iterator)\n",
    "print(train_range)\n",
    "print(test_range)"
   ]
  },
  {
   "cell_type": "markdown",
   "id": "6b69f430",
   "metadata": {},
   "source": [
    "It is clearer in a graphical representation"
   ]
  },
  {
   "cell_type": "code",
   "execution_count": null,
   "id": "76e7ecc6",
   "metadata": {
    "scrolled": false
   },
   "outputs": [],
   "source": [
    "fig, axs = plt.subplots(5, 1, figsize=(15, 15), sharex=True)\n",
    "\n",
    "fold = 0\n",
    "for train_idx, val_idx in tss.split(df):\n",
    "    train = df.iloc[train_idx]\n",
    "    test = df.iloc[val_idx]\n",
    "    train['PJME_MW'].plot(ax=axs[fold],\n",
    "                          label='Training Set',\n",
    "                          title=f'Data Train/Test Split Fold {fold}')\n",
    "    test['PJME_MW'].plot(ax=axs[fold],\n",
    "                         label='Test Set')\n",
    "    axs[fold].axvline(test.index.min(), color='black', ls='--')\n",
    "    fold += 1\n",
    "plt.show()"
   ]
  },
  {
   "cell_type": "markdown",
   "id": "3205f338",
   "metadata": {},
   "source": [
    "## Forecasting Horizon\n",
    "\n",
    "The forecast horizon is the length of time into the future for which forecasts are to be prepared. \n",
    "- These generally vary from short-term forecasting horizons (less than three months) to long-term horizons (more than two years).\n",
    "\n",
    "## Lag Features\n",
    "\n",
    "In time series analysis, lag features are variables that represent past values of the time series variable being analyzed. \n",
    "- Lag features are used to capture the autocorrelation or dependency of the time series variable on its past values."
   ]
  },
  {
   "cell_type": "code",
   "execution_count": null,
   "id": "c46b8434",
   "metadata": {},
   "outputs": [],
   "source": [
    "def add_lags(df):\n",
    "    target_map = df['PJME_MW'].to_dict()\n",
    "    df['lag1'] = (df.index - pd.Timedelta('364 days')).map(target_map)\n",
    "    df['lag2'] = (df.index - pd.Timedelta('728 days')).map(target_map)\n",
    "    df['lag3'] = (df.index - pd.Timedelta('1092 days')).map(target_map)\n",
    "    return df\n",
    "\n",
    "add_lags(df)"
   ]
  },
  {
   "cell_type": "code",
   "execution_count": null,
   "id": "e6dcdf25",
   "metadata": {},
   "outputs": [],
   "source": [
    "df[df.index > '2010-01-01'][['PJME_MW','lag1', 'lag2', 'lag3']].head()"
   ]
  },
  {
   "cell_type": "markdown",
   "id": "292ac0dd",
   "metadata": {},
   "source": [
    "## Using Lags and Cross Validation together"
   ]
  },
  {
   "cell_type": "code",
   "execution_count": null,
   "id": "77017cc7",
   "metadata": {
    "scrolled": true
   },
   "outputs": [],
   "source": [
    "tss = TimeSeriesSplit(n_splits=5, test_size=24*365*1, gap=24)\n",
    "df = df.sort_index()\n",
    "\n",
    "\n",
    "fold = 0\n",
    "preds = []\n",
    "scores = []\n",
    "for train_idx, val_idx in tss.split(df):\n",
    "    train = df.iloc[train_idx]\n",
    "    test = df.iloc[val_idx]\n",
    "\n",
    "    train = create_features(train)\n",
    "    test = create_features(test)\n",
    "\n",
    "    FEATURES = ['dayofyear', 'hour', 'dayofweek', 'quarter', 'month','year',\n",
    "                'lag1','lag2','lag3']\n",
    "    TARGET = 'PJME_MW'\n",
    "\n",
    "    X_train = train[FEATURES]\n",
    "    y_train = train[TARGET]\n",
    "\n",
    "    X_test = test[FEATURES]\n",
    "    y_test = test[TARGET]\n",
    "\n",
    "    reg = xgb.XGBRegressor(base_score=0.5, booster='gbtree',    \n",
    "                           n_estimators=1000,\n",
    "                           early_stopping_rounds=50,\n",
    "                           objective='reg:linear',\n",
    "                           max_depth=3,\n",
    "                           learning_rate=0.01)\n",
    "    reg.fit(X_train, y_train,\n",
    "            eval_set=[(X_train, y_train), (X_test, y_test)],\n",
    "            verbose=100)\n",
    "\n",
    "    y_pred = reg.predict(X_test)\n",
    "    preds.append(y_pred)\n",
    "    score = np.sqrt(mean_squared_error(y_test, y_pred))\n",
    "    scores.append(score)"
   ]
  },
  {
   "cell_type": "code",
   "execution_count": null,
   "id": "a253c4b7",
   "metadata": {},
   "outputs": [],
   "source": [
    "scores"
   ]
  },
  {
   "cell_type": "code",
   "execution_count": null,
   "id": "2db9ba6c",
   "metadata": {
    "scrolled": true
   },
   "outputs": [],
   "source": [
    "np.mean(scores)"
   ]
  },
  {
   "cell_type": "markdown",
   "id": "0f2305f7",
   "metadata": {},
   "source": [
    "Lets see the importance of the lag features for the last regressor"
   ]
  },
  {
   "cell_type": "code",
   "execution_count": null,
   "id": "2f92f125",
   "metadata": {
    "scrolled": false
   },
   "outputs": [],
   "source": [
    "fi = pd.DataFrame(data=reg.feature_importances_,\n",
    "             index=reg.feature_names_in_,\n",
    "             columns=['importance'])\n",
    "fi.sort_values('importance').plot(kind='barh', title='Feature Importance')\n",
    "plt.show()"
   ]
  },
  {
   "cell_type": "code",
   "execution_count": null,
   "id": "76896ef6",
   "metadata": {
    "scrolled": false
   },
   "outputs": [],
   "source": [
    "test['prediction'] = y_pred\n",
    "test.PJME_MW.plot()\n",
    "test.prediction.plot()"
   ]
  },
  {
   "cell_type": "code",
   "execution_count": null,
   "id": "81571cb5",
   "metadata": {},
   "outputs": [],
   "source": [
    "test[(test.index > '04-01-2018') & (test.index < '04-08-2018')].PJME_MW.plot()\n",
    "test[(test.index > '04-01-2018') & (test.index < '04-08-2018')].prediction.plot()\n",
    "plt.show()"
   ]
  },
  {
   "cell_type": "markdown",
   "id": "ab842ffd",
   "metadata": {},
   "source": [
    "## Predicting the Future\n",
    "\n",
    "- Retraining on all data\n",
    "- To Predict the future we need an emtpy dataframe for future date ranges.\n",
    "- Run those dates through our feature creation code + lag creation"
   ]
  },
  {
   "cell_type": "code",
   "execution_count": null,
   "id": "e1274b01",
   "metadata": {},
   "outputs": [],
   "source": []
  }
 ],
 "metadata": {
  "kernelspec": {
   "display_name": "Python [conda env:python_lectures]",
   "language": "python",
   "name": "conda-env-python_lectures-py"
  },
  "language_info": {
   "codemirror_mode": {
    "name": "ipython",
    "version": 3
   },
   "file_extension": ".py",
   "mimetype": "text/x-python",
   "name": "python",
   "nbconvert_exporter": "python",
   "pygments_lexer": "ipython3",
   "version": "3.8.16"
  }
 },
 "nbformat": 4,
 "nbformat_minor": 5
}
