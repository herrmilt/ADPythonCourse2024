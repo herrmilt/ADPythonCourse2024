{
 "cells": [
  {
   "cell_type": "markdown",
   "id": "d7cd18b1",
   "metadata": {},
   "source": [
    "# Introduction to Time Series Analysis\n",
    "\n",
    "Time series analysis is a family of techniques used to analyze data that is collected over time. \n",
    "- In time series analysis, data is collected at equally spaced intervals, such as hourly, daily, weekly, or monthly intervals. \n",
    "- The goal of time series analysis is to identify patterns or trends in the data, and use these patterns to make predictions about future values."
   ]
  },
  {
   "cell_type": "code",
   "execution_count": null,
   "id": "a3dfc663",
   "metadata": {
    "scrolled": true
   },
   "outputs": [],
   "source": [
    "import pandas as pd\n",
    "df = pd.read_csv('data/monthly_milk_production.csv',index_col='Date', parse_dates=True)\n",
    "df.index.freq = \"MS\"\n",
    "df.head(5)"
   ]
  },
  {
   "cell_type": "code",
   "execution_count": null,
   "id": "c17a8fb9",
   "metadata": {},
   "outputs": [],
   "source": [
    "import matplotlib.pyplot as plt\n",
    "plt.figure(figsize=(10, 6))\n",
    "df.plot(marker='o')\n",
    "plt.title('Time Series Example')\n",
    "plt.xlabel('Date')\n",
    "plt.ylabel('Value')\n",
    "plt.grid(True)\n",
    "plt.show()"
   ]
  },
  {
   "cell_type": "markdown",
   "id": "d85f0d6f",
   "metadata": {},
   "source": [
    "Time series analysis is used in many different fields, including finance, economics, engineering, and environmental science. \n",
    "\n",
    "\n",
    "- Finance: Predict stock prices or other financial indicators. \n",
    "\n",
    "- Economics: Trends in economic indicators such as inflation, gross domestic product, or unemployment rates. \n",
    "\n",
    "- Engineering: Monitor performance of machines or systems over time. Identify patterns in the vibrations of an engine, which could indicate a potential failure.\n",
    "\n",
    "- Environmental science: Study trends in environmental factors such as temperature, rainfall, or air pollution levels. Decompose a time series of global temperature into its component frequency components, in order to identify long-term trends and cyclical patterns.\n",
    "\n",
    "- Marketing: Forecast sales or customer behavior over time. Predict future sales of a product based on its past sales history so you have enough items on the stock."
   ]
  },
  {
   "cell_type": "markdown",
   "id": "63895610",
   "metadata": {},
   "source": [
    "## Time serie decomposition\n",
    "\n",
    "Time series decomposition is a statistical technique that breaks down a time series into its constituent components. The primary goal of decomposition is to understand and analyze the underlying patterns in the time series data. The three main components usually are:\n",
    "- Trend: The long-term movement or general direction in the data. \n",
    "- Seasonality: The repetitive, periodic fluctuations in the data that occur at regular intervals. \n",
    "- Residual (or Error): The random noise or irregular component that remains after removing the trend and seasonality. "
   ]
  },
  {
   "cell_type": "code",
   "execution_count": null,
   "id": "02d83d9a",
   "metadata": {
    "scrolled": false
   },
   "outputs": [],
   "source": [
    "df.plot(figsize=(10,6))"
   ]
  },
  {
   "cell_type": "code",
   "execution_count": null,
   "id": "2572c0c2",
   "metadata": {
    "id": "jcew1g4f6L_X"
   },
   "outputs": [],
   "source": [
    "from statsmodels.tsa.seasonal import seasonal_decompose"
   ]
  },
  {
   "cell_type": "code",
   "execution_count": null,
   "id": "f3d46d6b",
   "metadata": {
    "colab": {
     "base_uri": "https://localhost:8080/",
     "height": 297
    },
    "id": "zfTZaeEH6Wpn",
    "outputId": "3f6120dd-ff89-4c21-bce1-32dc4d01b02c"
   },
   "outputs": [],
   "source": [
    "results = seasonal_decompose(df['Production'])\n",
    "results.plot();"
   ]
  },
  {
   "cell_type": "code",
   "execution_count": null,
   "id": "adbe4c90",
   "metadata": {},
   "outputs": [],
   "source": [
    "trend = results.trend\n",
    "seasonal = results.seasonal\n",
    "residual = results.resid"
   ]
  },
  {
   "cell_type": "code",
   "execution_count": null,
   "id": "3abdd6a2",
   "metadata": {},
   "outputs": [],
   "source": [
    "trend.plot()\n",
    "(seasonal + trend).plot()"
   ]
  },
  {
   "cell_type": "markdown",
   "id": "c5d30393",
   "metadata": {},
   "source": [
    "## Time serie operations in Pandas"
   ]
  },
  {
   "cell_type": "code",
   "execution_count": null,
   "id": "0e6de600",
   "metadata": {},
   "outputs": [],
   "source": [
    "# Resample\n",
    "df_yearly = df['Production'].resample('Y').mean()\n",
    "df_yearly.head(5)"
   ]
  },
  {
   "cell_type": "code",
   "execution_count": null,
   "id": "a8af7e35",
   "metadata": {
    "scrolled": false
   },
   "outputs": [],
   "source": [
    "df_yearly.plot()"
   ]
  },
  {
   "cell_type": "code",
   "execution_count": null,
   "id": "293cfc82",
   "metadata": {
    "scrolled": true
   },
   "outputs": [],
   "source": [
    "# Rolling average\n",
    "df_rolling = df['Production'].rolling(window=3).mean()\n",
    "df_rolling.plot()"
   ]
  },
  {
   "cell_type": "code",
   "execution_count": null,
   "id": "0e99b8a6",
   "metadata": {
    "scrolled": false
   },
   "outputs": [],
   "source": [
    "df_rolling = df['Production'].rolling(window=12).mean()\n",
    "df_rolling.plot()"
   ]
  },
  {
   "cell_type": "code",
   "execution_count": null,
   "id": "b1768a10",
   "metadata": {},
   "outputs": [],
   "source": [
    "# Shifting\n",
    "df['shifted_1'] = df['Production'].shift(1)\n",
    "df['shifted_m1'] = df['Production'].shift(-1)\n",
    "df.head(10)"
   ]
  },
  {
   "cell_type": "code",
   "execution_count": null,
   "id": "22a934d5",
   "metadata": {
    "scrolled": true
   },
   "outputs": [],
   "source": [
    "df['diff1'] = df['Production'].diff(1)\n",
    "df.head(10)"
   ]
  },
  {
   "cell_type": "code",
   "execution_count": null,
   "id": "bf54ecae",
   "metadata": {},
   "outputs": [],
   "source": [
    "df['Production'].plot()\n",
    "df['diff1'].plot()"
   ]
  },
  {
   "cell_type": "code",
   "execution_count": null,
   "id": "b5dac0bf",
   "metadata": {},
   "outputs": [],
   "source": []
  }
 ],
 "metadata": {
  "kernelspec": {
   "display_name": "Python [conda env:python_lectures]",
   "language": "python",
   "name": "conda-env-python_lectures-py"
  },
  "language_info": {
   "codemirror_mode": {
    "name": "ipython",
    "version": 3
   },
   "file_extension": ".py",
   "mimetype": "text/x-python",
   "name": "python",
   "nbconvert_exporter": "python",
   "pygments_lexer": "ipython3",
   "version": "3.8.16"
  }
 },
 "nbformat": 4,
 "nbformat_minor": 5
}
