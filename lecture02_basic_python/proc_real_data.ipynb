{
 "cells": [
  {
   "cell_type": "markdown",
   "id": "cef5d934",
   "metadata": {},
   "source": [
    "# Processing real data with sequences"
   ]
  },
  {
   "cell_type": "code",
   "execution_count": 1,
   "id": "0a3ed60d",
   "metadata": {},
   "outputs": [],
   "source": [
    "import csv"
   ]
  },
  {
   "cell_type": "code",
   "execution_count": 2,
   "id": "7b91f35d",
   "metadata": {},
   "outputs": [],
   "source": [
    "with open(\"data/pop_year.csv\") as f:\n",
    "    reader = csv.reader(f)\n",
    "    raw_data = [r for r in reader]"
   ]
  },
  {
   "cell_type": "code",
   "execution_count": 3,
   "id": "eed66756",
   "metadata": {
    "scrolled": true
   },
   "outputs": [
    {
     "data": {
      "text/plain": [
       "[['year', 'total', 'male', 'female'],\n",
       " ['  1960', '7077190 ', '3633812 ', '3443378 '],\n",
       " ['  1965', '7907113 ', '4052583 ', '3854530 '],\n",
       " ['  1970', '8603165 ', '4410996 ', '4192169 '],\n",
       " ['  1975', '9365972 ', '4782387 ', '4583585 '],\n",
       " ['  1980', '9693907 ', '4899368 ', '4794539 '],\n",
       " ['  1985', '10138642 ', '5107555 ', '5031087 '],\n",
       " ['  1990', '10662148 ', '5364342 ', '5297806 '],\n",
       " ['  1991', '10756829 ', '5410665 ', '5346164 '],\n",
       " ['  1992', '10829320 ', '5444568 ', '5384752 '],\n",
       " ['  1993', '10895987 ', '5476547 ', '5419440 '],\n",
       " ['  1994', '10912924 ', '5483699 ', '5429225 '],\n",
       " ['  1995', '10947119 ', '5495292 ', '5451827 '],\n",
       " ['  1996', '10983326 ', '5501084 ', '5482242 '],\n",
       " ['  1997', '11033993 ', '5523195 ', '5510798 '],\n",
       " ['  1998', '11076817 ', '5539960 ', '5536857 '],\n",
       " ['  1999', '11113128 ', '5553233 ', '5559895 '],\n",
       " ['  2000', '11146203 ', '5580916 ', '5565287 '],\n",
       " ['  2001', '11168526 ', '5592762 ', '5575764 '],\n",
       " ['  2002 ', '11200388 ', '5608565 ', '5591823 '],\n",
       " ['  2003 ', '11215388 ', '5613301 ', '5602087 '],\n",
       " ['  2004 ', '11217590 ', '5612160 ', '5605430 '],\n",
       " ['  2005 ', '11218623 ', '5617802 ', '5600821 '],\n",
       " ['  2006', '11202632 ', '5610040 ', '5592592 '],\n",
       " ['  2007', '11188028 ', '5601472 ', '5586556 '],\n",
       " ['  2008', '11173996 ', '5593875 ', '5580121 '],\n",
       " ['  2009', '11174952 ', '5595132 ', '5579820 '],\n",
       " ['  2010', '11167934 ', '5590326 ', '5577608 '],\n",
       " ['  2011', '11175423 ', '5594337 ', '5581086 '],\n",
       " ['  2012 ', '11173151 ', '5572275 ', '5600876 '],\n",
       " ['  2013', '11210064 ', '5589345 ', '5620719 '],\n",
       " ['  2014', '11238317 ', '5601414 ', '5636903 '],\n",
       " ['  2015', '11239004 ', '5600393 ', '5638611 '],\n",
       " ['  2016', '11239224 ', '5598165 ', '5641059 '],\n",
       " ['  2017', '11221060 ', '5584885 ', '5636175 '],\n",
       " ['  2018', '11209628 ', '5575988 ', '5633640 '],\n",
       " ['  2019', '11193470 ', '5564173 ', '5629297 '],\n",
       " ['  2020', '11181595 ', '5554048 ', '5627547 ']]"
      ]
     },
     "execution_count": 3,
     "metadata": {},
     "output_type": "execute_result"
    }
   ],
   "source": [
    "raw_data"
   ]
  },
  {
   "cell_type": "code",
   "execution_count": null,
   "id": "6d84a65c",
   "metadata": {},
   "outputs": [],
   "source": [
    "# Get the column names\n",
    "column_names = raw_data[0]"
   ]
  },
  {
   "cell_type": "code",
   "execution_count": null,
   "id": "6558ff4e",
   "metadata": {
    "scrolled": true
   },
   "outputs": [],
   "source": [
    "# Remove the first row, and convert other rows to numbers\n",
    "data = []\n",
    "for row in raw_data[1:]:\n",
    "    data.append([int(row[0]), int(row[1]), int(row[2]), int(row[3])])\n",
    "data"
   ]
  },
  {
   "cell_type": "code",
   "execution_count": null,
   "id": "73a6ea2b",
   "metadata": {},
   "outputs": [],
   "source": [
    "# other solution\n",
    "data = []\n",
    "for row in raw_data[1:]:\n",
    "    n_row = []\n",
    "    for c in row:\n",
    "        n_row.append(int(c))\n",
    "    data.append(n_row)\n",
    "data"
   ]
  },
  {
   "cell_type": "code",
   "execution_count": null,
   "id": "a8f9b157",
   "metadata": {
    "scrolled": true
   },
   "outputs": [],
   "source": [
    "# Extract all columns to different lists\n",
    "all_years = []\n",
    "all_total = []\n",
    "all_male = []\n",
    "all_female = []\n",
    "for d in data:\n",
    "    all_years.append(d[0])\n",
    "    all_total.append(d[1])\n",
    "    all_male.append(d[2])\n",
    "    all_female.append(d[3])\n",
    "print(all_years)"
   ]
  },
  {
   "cell_type": "code",
   "execution_count": null,
   "id": "8811cd6c",
   "metadata": {},
   "outputs": [],
   "source": [
    "# other solution, destructuring ...\n",
    "all_years = []\n",
    "all_total = []\n",
    "all_male = []\n",
    "all_female = []\n",
    "for d in data:\n",
    "    year, total, male, female = d\n",
    "    all_years.append(year)\n",
    "    all_total.append(total)\n",
    "    all_male.append(male)\n",
    "    all_female.append(female)\n",
    "print(all_years)"
   ]
  },
  {
   "cell_type": "code",
   "execution_count": null,
   "id": "4a9093a9",
   "metadata": {},
   "outputs": [],
   "source": [
    "# Verify that total is correctly calculated\n",
    "for idx in range(len(all_years)):\n",
    "    if all_male[idx] + all_female[idx] != all_total[idx]:\n",
    "        print(\"ERROR in line\", idx)\n",
    "        break\n",
    "else:\n",
    "    print(\"No errors\")"
   ]
  },
  {
   "cell_type": "code",
   "execution_count": null,
   "id": "6499dc2b",
   "metadata": {},
   "outputs": [],
   "source": [
    "# Largest total population\n",
    "max_pop = 0\n",
    "for p in all_total:\n",
    "    if p > max_pop:\n",
    "        max_pop = p\n",
    "max_pop"
   ]
  },
  {
   "cell_type": "code",
   "execution_count": null,
   "id": "81573ccd",
   "metadata": {},
   "outputs": [],
   "source": [
    "# other solution\n",
    "max_pop = 0\n",
    "for p in all_total:\n",
    "    max_pop = max(max_pop, p)\n",
    "max_pop"
   ]
  },
  {
   "cell_type": "code",
   "execution_count": null,
   "id": "c9cd7e58",
   "metadata": {},
   "outputs": [],
   "source": [
    "import sys\n",
    "# Smallest male population\n",
    "min_pop = sys.maxsize\n",
    "for p in all_male:\n",
    "    min_pop = min(min_pop, p)\n",
    "min_pop"
   ]
  },
  {
   "cell_type": "code",
   "execution_count": null,
   "id": "cf8b60a0",
   "metadata": {},
   "outputs": [],
   "source": [
    "# Year with largest total population\n",
    "max_pop = 0\n",
    "max_year = None\n",
    "for idx in range(len(all_years)):\n",
    "    if all_total[idx] > max_pop:\n",
    "        max_pop = all_total[idx]\n",
    "        max_year = all_years[idx]\n",
    "max_year"
   ]
  },
  {
   "cell_type": "code",
   "execution_count": null,
   "id": "a1111cbb",
   "metadata": {},
   "outputs": [],
   "source": [
    "# other solution\n",
    "max_idx = 0\n",
    "for idx in range(1, len(all_years)):\n",
    "    if all_total[idx] > all_total[max_idx]:\n",
    "        max_idx = idx\n",
    "all_years[max_idx]"
   ]
  },
  {
   "cell_type": "code",
   "execution_count": null,
   "id": "47afdc4f",
   "metadata": {
    "scrolled": true
   },
   "outputs": [],
   "source": [
    "# Maximum difference between two male populations\n",
    "all_total_dif = []\n",
    "for idx in range(1, len(all_years)):\n",
    "    all_total_dif.append(abs(all_male[idx-1] - all_male[idx]))\n",
    "print(all_total_dif)"
   ]
  },
  {
   "cell_type": "code",
   "execution_count": null,
   "id": "0e093a33",
   "metadata": {},
   "outputs": [],
   "source": [
    "max_total_dif = 0\n",
    "for p in all_total_dif:\n",
    "    max_total_dif = max(max_total_dif, p)\n",
    "max_total_dif"
   ]
  },
  {
   "cell_type": "code",
   "execution_count": null,
   "id": "f4b61f64",
   "metadata": {},
   "outputs": [],
   "source": [
    "# Which are the years of the maximum difference in total population?\n",
    "max_dif = 0\n",
    "max_dif_idx = 0\n",
    "for idx in range(1, len(all_years)):\n",
    "    current_dif = abs(all_total[idx-1] - all_total[idx])\n",
    "    if current_dif > max_dif:\n",
    "        max_dif = current_dif\n",
    "        max_dif_idx = idx\n",
    "max_period = (all_years[max_dif_idx-1], all_years[max_dif_idx])\n",
    "max_period"
   ]
  },
  {
   "cell_type": "code",
   "execution_count": null,
   "id": "f04687ba",
   "metadata": {},
   "outputs": [],
   "source": [
    "# What is the largest difference between the male and female population\n",
    "max_dif = 0\n",
    "max_year = None\n",
    "for idx in range(0, len(all_years)):\n",
    "    current_dif = abs(all_male[idx] - all_female[idx])\n",
    "    if current_dif > max_dif:\n",
    "        max_dif = current_dif\n",
    "        max_year = all_years[idx]\n",
    "max_dif, max_year"
   ]
  }
 ],
 "metadata": {
  "kernelspec": {
   "display_name": "Python [conda env:python_lectures]",
   "language": "python",
   "name": "conda-env-python_lectures-py"
  },
  "language_info": {
   "codemirror_mode": {
    "name": "ipython",
    "version": 3
   },
   "file_extension": ".py",
   "mimetype": "text/x-python",
   "name": "python",
   "nbconvert_exporter": "python",
   "pygments_lexer": "ipython3",
   "version": "3.8.16"
  }
 },
 "nbformat": 4,
 "nbformat_minor": 5
}
