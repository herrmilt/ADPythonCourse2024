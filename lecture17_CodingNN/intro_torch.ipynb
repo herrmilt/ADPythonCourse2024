{
 "cells": [
  {
   "cell_type": "markdown",
   "id": "239ed5fb",
   "metadata": {},
   "source": [
    "# Introduction to Torch\n",
    "- Deep learning library developed by Meta (Formerly Facebook)\n",
    "- Is a key component of PyTorch ecosystem\n",
    "\n",
    "Similarities with Autograd:\n",
    "- Automatic differentiation\n",
    "- Easy of use\n",
    "- Pythonic integration\n",
    "- Dynamic computational graphs\n",
    "- Gradient computation and optimization\n",
    "\n",
    "Differences with AutoGrad:\n",
    "- Based on **tensors** (multidimensional matrixes) instead of **values**\n",
    "- Easy to execute on GPUs of different vendors\n",
    "- Lots of components and tools integrated\n",
    "\n",
    "## A simple example in torch"
   ]
  },
  {
   "cell_type": "code",
   "execution_count": 1,
   "id": "4495b29b",
   "metadata": {},
   "outputs": [
    {
     "name": "stdout",
     "output_type": "stream",
     "text": [
      "0.7071066904050358\n"
     ]
    }
   ],
   "source": [
    "import torch\n",
    "\n",
    "x1 = torch.Tensor([2.0]).double(); x1.requires_grad = True\n",
    "x2 = torch.Tensor([0.0]).double(); x2.requires_grad = True\n",
    "w1 = torch.Tensor([-3.0]).double(); w1.requires_grad = True\n",
    "w2 = torch.Tensor([1.0]).double(); w2.requires_grad = True\n",
    "b = torch.Tensor([6.8813735870195432]).double(); b.requires_grad = True\n",
    "n = x1*w1 + x2*w2 + b\n",
    "o = torch.tanh(n)\n",
    "\n",
    "print(o.data.item())"
   ]
  },
  {
   "cell_type": "code",
   "execution_count": 2,
   "id": "1ca96a90",
   "metadata": {},
   "outputs": [
    {
     "name": "stdout",
     "output_type": "stream",
     "text": [
      "x1 -1.5000003851533106\n",
      "w1 1.0000002567688737\n",
      "x2 0.5000001283844369\n",
      "w2 0.0\n",
      "b 0.5000001283844369\n"
     ]
    }
   ],
   "source": [
    "o.backward()\n",
    "\n",
    "print('x1', x1.grad.item())\n",
    "print('w1', w1.grad.item())\n",
    "print('x2', x2.grad.item())\n",
    "print('w2', w2.grad.item())\n",
    "print('b', b.grad.item())"
   ]
  },
  {
   "cell_type": "markdown",
   "id": "3bf6ba12",
   "metadata": {},
   "source": [
    "## A neural network in torch"
   ]
  },
  {
   "cell_type": "code",
   "execution_count": 339,
   "id": "2f77e492",
   "metadata": {},
   "outputs": [],
   "source": [
    "xs = torch.tensor([\n",
    "    [2.0, 3.0, -1.0],\n",
    "    [3.0, -1.0, 0.5],\n",
    "    [0.5, 1.0, -1.0],\n",
    "    [1.0, 1.0, -1.0]\n",
    "])\n",
    "ys = torch.tensor([1.0, -1.0, -1.0, 1.0])"
   ]
  },
  {
   "cell_type": "code",
   "execution_count": 340,
   "id": "5bab5ae9",
   "metadata": {},
   "outputs": [
    {
     "data": {
      "text/plain": [
       "tensor([[ 0.5873],\n",
       "        [-0.3065],\n",
       "        [-0.9084]])"
      ]
     },
     "execution_count": 340,
     "metadata": {},
     "output_type": "execute_result"
    }
   ],
   "source": [
    "# Neuron, three inputs\n",
    "W = torch.randn((3, 1))\n",
    "W"
   ]
  },
  {
   "cell_type": "code",
   "execution_count": 341,
   "id": "969df59a",
   "metadata": {},
   "outputs": [
    {
     "data": {
      "text/plain": [
       "tensor([[1.1634],\n",
       "        [1.6141],\n",
       "        [0.8955],\n",
       "        [1.1891]])"
      ]
     },
     "execution_count": 341,
     "metadata": {},
     "output_type": "execute_result"
    }
   ],
   "source": [
    "# activation of the neuron on the four inputs\n",
    "xs @ W"
   ]
  },
  {
   "cell_type": "code",
   "execution_count": 342,
   "id": "31e1d9c2",
   "metadata": {},
   "outputs": [
    {
     "data": {
      "text/plain": [
       "tensor([1.6956])"
      ]
     },
     "execution_count": 342,
     "metadata": {},
     "output_type": "execute_result"
    }
   ],
   "source": [
    "# Lets now add the bias\n",
    "b = torch.randn((1,))\n",
    "b"
   ]
  },
  {
   "cell_type": "code",
   "execution_count": 343,
   "id": "a61f0b68",
   "metadata": {
    "scrolled": true
   },
   "outputs": [
    {
     "data": {
      "text/plain": [
       "tensor([[2.8590],\n",
       "        [3.3097],\n",
       "        [2.5911],\n",
       "        [2.8848]])"
      ]
     },
     "execution_count": 343,
     "metadata": {},
     "output_type": "execute_result"
    }
   ],
   "source": [
    "# activation of the first neuron for the four inputs\n",
    "xs @ W + b"
   ]
  },
  {
   "cell_type": "code",
   "execution_count": 344,
   "id": "e0ac8e9f",
   "metadata": {},
   "outputs": [
    {
     "data": {
      "text/plain": [
       "tensor([[ 0.7701,  0.8489,  1.3302,  0.0665],\n",
       "        [-0.1748,  1.2672,  1.6503,  0.7034],\n",
       "        [-0.6673, -0.4900, -0.7401,  0.9319]])"
      ]
     },
     "execution_count": 344,
     "metadata": {},
     "output_type": "execute_result"
    }
   ],
   "source": [
    "# lets add more neurons\n",
    "W = torch.randn((3, 4))\n",
    "W"
   ]
  },
  {
   "cell_type": "code",
   "execution_count": 345,
   "id": "65a7767e",
   "metadata": {
    "scrolled": true
   },
   "outputs": [
    {
     "data": {
      "text/plain": [
       "tensor([[ 1.6830,  5.9892,  8.3515,  1.3113],\n",
       "        [ 2.1515,  1.0344,  1.9704, -0.0379],\n",
       "        [ 0.8775,  2.1816,  3.0555, -0.1953],\n",
       "        [ 1.2625,  2.6060,  3.7207, -0.1620]])"
      ]
     },
     "execution_count": 345,
     "metadata": {},
     "output_type": "execute_result"
    }
   ],
   "source": [
    "# what is now the product?\n",
    "xs @ W"
   ]
  },
  {
   "cell_type": "code",
   "execution_count": 346,
   "id": "00197cf8",
   "metadata": {},
   "outputs": [
    {
     "data": {
      "text/plain": [
       "(torch.Size([4, 3]), torch.Size([3, 4]), torch.Size([4, 4]))"
      ]
     },
     "execution_count": 346,
     "metadata": {},
     "output_type": "execute_result"
    }
   ],
   "source": [
    "# xs -> objects x features\n",
    "# W -> weights x neurons\n",
    "# xs @ W -> objects x neurons, each cell contains sum(features*weights)\n",
    "xs.shape, W.shape, (xs@W).shape"
   ]
  },
  {
   "cell_type": "code",
   "execution_count": 347,
   "id": "6b74238e",
   "metadata": {
    "scrolled": true
   },
   "outputs": [
    {
     "data": {
      "text/plain": [
       "tensor([[ 1.6830,  5.9892,  8.3515,  1.3113],\n",
       "        [ 2.1515,  1.0344,  1.9704, -0.0379],\n",
       "        [ 0.8775,  2.1816,  3.0555, -0.1953],\n",
       "        [ 1.2625,  2.6060,  3.7207, -0.1620]])"
      ]
     },
     "metadata": {},
     "output_type": "display_data"
    },
    {
     "data": {
      "text/plain": [
       "tensor([[-0.6787, -1.8169,  0.9257, -0.9817]])"
      ]
     },
     "metadata": {},
     "output_type": "display_data"
    },
    {
     "data": {
      "text/plain": [
       "tensor([[ 1.0043,  4.1723,  9.2772,  0.3296],\n",
       "        [ 1.4728, -0.7826,  2.8961, -1.0196],\n",
       "        [ 0.1988,  0.3646,  3.9813, -1.1770],\n",
       "        [ 0.5839,  0.7891,  4.6464, -1.1437]])"
      ]
     },
     "metadata": {},
     "output_type": "display_data"
    }
   ],
   "source": [
    "# the bias is added per neuron, after xs * W\n",
    "b = torch.randn((1,4))\n",
    "act = xs @ W + b\n",
    "display(xs @ W)\n",
    "display(b)\n",
    "display(act)"
   ]
  },
  {
   "cell_type": "code",
   "execution_count": 348,
   "id": "b5d121ac",
   "metadata": {
    "scrolled": true
   },
   "outputs": [
    {
     "data": {
      "text/plain": [
       "tensor([[ 0.7634,  0.9995,  1.0000,  0.3182],\n",
       "        [ 0.9001, -0.6542,  0.9939, -0.7697],\n",
       "        [ 0.1962,  0.3493,  0.9993, -0.8265],\n",
       "        [ 0.5255,  0.6579,  0.9998, -0.8157]])"
      ]
     },
     "execution_count": 348,
     "metadata": {},
     "output_type": "execute_result"
    }
   ],
   "source": [
    "# now, it is time to evaluate the activation function on the activation\n",
    "(xs @ W + b).tanh()"
   ]
  },
  {
   "cell_type": "markdown",
   "id": "df7eca37",
   "metadata": {},
   "source": [
    "As a summary, a fully connected layer is formed by:\n",
    "- A weight matrix that has one row per input value, and a column per output value\n",
    "- A bias vector, that has a single row and a column per neuron\n",
    "- An activation function\n",
    "\n",
    "Note: All the elements here are differentiable."
   ]
  },
  {
   "cell_type": "code",
   "execution_count": 349,
   "id": "781a665d",
   "metadata": {},
   "outputs": [
    {
     "data": {
      "text/plain": [
       "tensor([[ 2.0000,  3.0000, -1.0000],\n",
       "        [ 3.0000, -1.0000,  0.5000],\n",
       "        [ 0.5000,  1.0000, -1.0000],\n",
       "        [ 1.0000,  1.0000, -1.0000]])"
      ]
     },
     "metadata": {},
     "output_type": "display_data"
    },
    {
     "data": {
      "text/plain": [
       "tensor([ 1., -1., -1.,  1.])"
      ]
     },
     "metadata": {},
     "output_type": "display_data"
    }
   ],
   "source": [
    "# back to the original problem\n",
    "display(xs)\n",
    "display(ys)"
   ]
  },
  {
   "cell_type": "code",
   "execution_count": 350,
   "id": "b70ffc23",
   "metadata": {},
   "outputs": [
    {
     "data": {
      "text/plain": [
       "tensor([[-0.9999],\n",
       "        [-0.8943],\n",
       "        [-0.9755],\n",
       "        [-0.9899]])"
      ]
     },
     "execution_count": 350,
     "metadata": {},
     "output_type": "execute_result"
    }
   ],
   "source": [
    "# we have three objects and one output, so we need one output neuron\n",
    "W = torch.randn((3, 1))\n",
    "b = torch.randn((1, 1))\n",
    "\n",
    "out = (xs @ W + b).tanh()\n",
    "out"
   ]
  },
  {
   "cell_type": "code",
   "execution_count": 351,
   "id": "f49b07b0",
   "metadata": {},
   "outputs": [
    {
     "data": {
      "text/plain": [
       "tensor(30.9246)"
      ]
     },
     "execution_count": 351,
     "metadata": {},
     "output_type": "execute_result"
    }
   ],
   "source": [
    "# lets calculate the loss\n",
    "loss = torch.sum((out - ys)**2)\n",
    "loss"
   ]
  },
  {
   "cell_type": "code",
   "execution_count": 352,
   "id": "6b5e4341",
   "metadata": {
    "scrolled": true
   },
   "outputs": [
    {
     "data": {
      "text/plain": [
       "tensor([[-1.9999e+00,  5.0724e-05,  5.0724e-05, -1.9999e+00],\n",
       "        [-1.8943e+00,  1.0574e-01,  1.0574e-01, -1.8943e+00],\n",
       "        [-1.9755e+00,  2.4481e-02,  2.4481e-02, -1.9755e+00],\n",
       "        [-1.9899e+00,  1.0087e-02,  1.0087e-02, -1.9899e+00]])"
      ]
     },
     "execution_count": 352,
     "metadata": {},
     "output_type": "execute_result"
    }
   ],
   "source": [
    "# Uppps, it should not be that large!\n",
    "out-ys"
   ]
  },
  {
   "cell_type": "code",
   "execution_count": 353,
   "id": "eb882bee",
   "metadata": {},
   "outputs": [
    {
     "data": {
      "text/plain": [
       "(torch.Size([4, 1]), torch.Size([4]), torch.Size([4, 4]))"
      ]
     },
     "execution_count": 353,
     "metadata": {},
     "output_type": "execute_result"
    }
   ],
   "source": [
    "out.shape, ys.shape, (out-ys).shape"
   ]
  },
  {
   "cell_type": "code",
   "execution_count": 354,
   "id": "0b89f142",
   "metadata": {},
   "outputs": [
    {
     "data": {
      "text/plain": [
       "(torch.Size([4, 1]), torch.Size([4]))"
      ]
     },
     "execution_count": 354,
     "metadata": {},
     "output_type": "execute_result"
    }
   ],
   "source": [
    "# one solution is remove the last dimension from out\n",
    "out.shape, out.squeeze().shape"
   ]
  },
  {
   "cell_type": "code",
   "execution_count": 355,
   "id": "c3d48a83",
   "metadata": {},
   "outputs": [
    {
     "data": {
      "text/plain": [
       "tensor([-1.9999,  0.1057,  0.0245, -1.9899])"
      ]
     },
     "execution_count": 355,
     "metadata": {},
     "output_type": "execute_result"
    }
   ],
   "source": [
    "out.squeeze() - ys"
   ]
  },
  {
   "cell_type": "code",
   "execution_count": 356,
   "id": "1f495770",
   "metadata": {},
   "outputs": [
    {
     "data": {
      "text/plain": [
       "tensor(7.9713)"
      ]
     },
     "execution_count": 356,
     "metadata": {},
     "output_type": "execute_result"
    }
   ],
   "source": [
    "loss = torch.sum((out.squeeze() - ys)**2)\n",
    "loss"
   ]
  },
  {
   "cell_type": "code",
   "execution_count": 357,
   "id": "6434d6fa",
   "metadata": {},
   "outputs": [
    {
     "ename": "RuntimeError",
     "evalue": "element 0 of tensors does not require grad and does not have a grad_fn",
     "output_type": "error",
     "traceback": [
      "\u001b[0;31m---------------------------------------------------------------------------\u001b[0m",
      "\u001b[0;31mRuntimeError\u001b[0m                              Traceback (most recent call last)",
      "Input \u001b[0;32mIn [357]\u001b[0m, in \u001b[0;36m<cell line: 2>\u001b[0;34m()\u001b[0m\n\u001b[1;32m      1\u001b[0m \u001b[38;5;66;03m# since everything is differentiable, we can backpropagate the loss\u001b[39;00m\n\u001b[0;32m----> 2\u001b[0m \u001b[43mloss\u001b[49m\u001b[38;5;241;43m.\u001b[39;49m\u001b[43mbackward\u001b[49m\u001b[43m(\u001b[49m\u001b[43m)\u001b[49m\n",
      "File \u001b[0;32m~/miniconda3/envs/python_lectures/lib/python3.8/site-packages/torch/_tensor.py:487\u001b[0m, in \u001b[0;36mTensor.backward\u001b[0;34m(self, gradient, retain_graph, create_graph, inputs)\u001b[0m\n\u001b[1;32m    477\u001b[0m \u001b[38;5;28;01mif\u001b[39;00m has_torch_function_unary(\u001b[38;5;28mself\u001b[39m):\n\u001b[1;32m    478\u001b[0m     \u001b[38;5;28;01mreturn\u001b[39;00m handle_torch_function(\n\u001b[1;32m    479\u001b[0m         Tensor\u001b[38;5;241m.\u001b[39mbackward,\n\u001b[1;32m    480\u001b[0m         (\u001b[38;5;28mself\u001b[39m,),\n\u001b[0;32m   (...)\u001b[0m\n\u001b[1;32m    485\u001b[0m         inputs\u001b[38;5;241m=\u001b[39minputs,\n\u001b[1;32m    486\u001b[0m     )\n\u001b[0;32m--> 487\u001b[0m \u001b[43mtorch\u001b[49m\u001b[38;5;241;43m.\u001b[39;49m\u001b[43mautograd\u001b[49m\u001b[38;5;241;43m.\u001b[39;49m\u001b[43mbackward\u001b[49m\u001b[43m(\u001b[49m\n\u001b[1;32m    488\u001b[0m \u001b[43m    \u001b[49m\u001b[38;5;28;43mself\u001b[39;49m\u001b[43m,\u001b[49m\u001b[43m \u001b[49m\u001b[43mgradient\u001b[49m\u001b[43m,\u001b[49m\u001b[43m \u001b[49m\u001b[43mretain_graph\u001b[49m\u001b[43m,\u001b[49m\u001b[43m \u001b[49m\u001b[43mcreate_graph\u001b[49m\u001b[43m,\u001b[49m\u001b[43m \u001b[49m\u001b[43minputs\u001b[49m\u001b[38;5;241;43m=\u001b[39;49m\u001b[43minputs\u001b[49m\n\u001b[1;32m    489\u001b[0m \u001b[43m\u001b[49m\u001b[43m)\u001b[49m\n",
      "File \u001b[0;32m~/miniconda3/envs/python_lectures/lib/python3.8/site-packages/torch/autograd/__init__.py:200\u001b[0m, in \u001b[0;36mbackward\u001b[0;34m(tensors, grad_tensors, retain_graph, create_graph, grad_variables, inputs)\u001b[0m\n\u001b[1;32m    195\u001b[0m     retain_graph \u001b[38;5;241m=\u001b[39m create_graph\n\u001b[1;32m    197\u001b[0m \u001b[38;5;66;03m# The reason we repeat same the comment below is that\u001b[39;00m\n\u001b[1;32m    198\u001b[0m \u001b[38;5;66;03m# some Python versions print out the first line of a multi-line function\u001b[39;00m\n\u001b[1;32m    199\u001b[0m \u001b[38;5;66;03m# calls in the traceback and some print out the last line\u001b[39;00m\n\u001b[0;32m--> 200\u001b[0m \u001b[43mVariable\u001b[49m\u001b[38;5;241;43m.\u001b[39;49m\u001b[43m_execution_engine\u001b[49m\u001b[38;5;241;43m.\u001b[39;49m\u001b[43mrun_backward\u001b[49m\u001b[43m(\u001b[49m\u001b[43m  \u001b[49m\u001b[38;5;66;43;03m# Calls into the C++ engine to run the backward pass\u001b[39;49;00m\n\u001b[1;32m    201\u001b[0m \u001b[43m    \u001b[49m\u001b[43mtensors\u001b[49m\u001b[43m,\u001b[49m\u001b[43m \u001b[49m\u001b[43mgrad_tensors_\u001b[49m\u001b[43m,\u001b[49m\u001b[43m \u001b[49m\u001b[43mretain_graph\u001b[49m\u001b[43m,\u001b[49m\u001b[43m \u001b[49m\u001b[43mcreate_graph\u001b[49m\u001b[43m,\u001b[49m\u001b[43m \u001b[49m\u001b[43minputs\u001b[49m\u001b[43m,\u001b[49m\n\u001b[1;32m    202\u001b[0m \u001b[43m    \u001b[49m\u001b[43mallow_unreachable\u001b[49m\u001b[38;5;241;43m=\u001b[39;49m\u001b[38;5;28;43;01mTrue\u001b[39;49;00m\u001b[43m,\u001b[49m\u001b[43m \u001b[49m\u001b[43maccumulate_grad\u001b[49m\u001b[38;5;241;43m=\u001b[39;49m\u001b[38;5;28;43;01mTrue\u001b[39;49;00m\u001b[43m)\u001b[49m\n",
      "\u001b[0;31mRuntimeError\u001b[0m: element 0 of tensors does not require grad and does not have a grad_fn"
     ]
    }
   ],
   "source": [
    "# since everything is differentiable, we can backpropagate the loss\n",
    "loss.backward()"
   ]
  },
  {
   "cell_type": "code",
   "execution_count": 358,
   "id": "fcc3ae29",
   "metadata": {},
   "outputs": [],
   "source": [
    "# In torch, we need to warn the framework about the tensors we need to calculate the grad\n",
    "\n",
    "# network definition, seed controled\n",
    "g = torch.Generator().manual_seed(31416)\n",
    "W = torch.randn((3, 1), generator=g, requires_grad=True)\n",
    "b = torch.randn((1, 1), generator=g, requires_grad=True)"
   ]
  },
  {
   "cell_type": "code",
   "execution_count": 359,
   "id": "176d4798",
   "metadata": {},
   "outputs": [
    {
     "name": "stdout",
     "output_type": "stream",
     "text": [
      "Final loss: 0.5335512161254883\n"
     ]
    }
   ],
   "source": [
    "learning_rate = 0.1\n",
    "for _ in range(100):\n",
    "    # forward pass\n",
    "    out = (xs @ W + b).tanh()\n",
    "    loss = torch.mean((out.squeeze() - ys)**2)\n",
    "#     print(loss.item())\n",
    "\n",
    "    # backward pass, need to remove the gradients\n",
    "    W.grad = None\n",
    "    b.grad = None\n",
    "    loss.backward()\n",
    "\n",
    "    # update parameters\n",
    "    W.data += -learning_rate * W.grad\n",
    "    b.data += -learning_rate * b.grad\n",
    "print(\"Final loss:\", loss.item())"
   ]
  },
  {
   "cell_type": "code",
   "execution_count": 360,
   "id": "36f76828",
   "metadata": {},
   "outputs": [
    {
     "data": {
      "text/plain": [
       "(tensor([[ 0.8151],\n",
       "         [-0.7351],\n",
       "         [ 0.0957],\n",
       "         [ 0.0894]]),\n",
       " tensor([ 1., -1., -1.,  1.]))"
      ]
     },
     "execution_count": 360,
     "metadata": {},
     "output_type": "execute_result"
    }
   ],
   "source": [
    "out.data, ys"
   ]
  },
  {
   "cell_type": "code",
   "execution_count": 448,
   "id": "9f7b0c3f",
   "metadata": {},
   "outputs": [],
   "source": [
    "g = torch.Generator().manual_seed(31416)\n",
    "W = torch.randn((3, 1), generator=g, requires_grad=True)\n",
    "b = torch.randn((1, 1), generator=g, requires_grad=True)"
   ]
  },
  {
   "cell_type": "code",
   "execution_count": 515,
   "id": "41857d3f",
   "metadata": {},
   "outputs": [
    {
     "name": "stdout",
     "output_type": "stream",
     "text": [
      "Final loss: 0.02031448297202587\n"
     ]
    }
   ],
   "source": [
    "# Let simplify the code\n",
    "learning_rate = 0.1\n",
    "parameters = [W, b]\n",
    "for _ in range(100):\n",
    "    # forward pass\n",
    "    out = (xs @ W + b).tanh()\n",
    "    loss = torch.mean((out.squeeze() - ys)**2)\n",
    "#     print(loss.item())\n",
    "\n",
    "    # backward pass, need to remove the gradients\n",
    "    for p in parameters:\n",
    "        p.grad = None\n",
    "    loss.backward()\n",
    "\n",
    "    # update parameters\n",
    "    for p in parameters:\n",
    "        p.data += -learning_rate * p.grad\n",
    "        \n",
    "print(\"Final loss:\", loss.item())\n"
   ]
  },
  {
   "cell_type": "code",
   "execution_count": 516,
   "id": "e3e78fcb",
   "metadata": {},
   "outputs": [
    {
     "data": {
      "text/plain": [
       "(tensor([[ 1.0000],\n",
       "         [-0.9322],\n",
       "         [-0.8020],\n",
       "         [ 0.8064]]),\n",
       " tensor([ 1., -1., -1.,  1.]))"
      ]
     },
     "execution_count": 516,
     "metadata": {},
     "output_type": "execute_result"
    }
   ],
   "source": [
    "out.data, ys"
   ]
  },
  {
   "cell_type": "markdown",
   "id": "5809efac",
   "metadata": {},
   "source": [
    "## Solving moon problem"
   ]
  },
  {
   "cell_type": "code",
   "execution_count": 284,
   "id": "d4de318a",
   "metadata": {},
   "outputs": [],
   "source": [
    "import numpy as np\n",
    "import random\n",
    "import matplotlib.pyplot as plt\n",
    "np.random.seed(1337)\n",
    "random.seed(1337)"
   ]
  },
  {
   "cell_type": "code",
   "execution_count": 517,
   "id": "9685bc7b",
   "metadata": {},
   "outputs": [
    {
     "data": {
      "image/png": "[encoded data removed]",
      "text/plain": [
       "<Figure size 500x500 with 1 Axes>"
      ]
     },
     "metadata": {},
     "output_type": "display_data"
    }
   ],
   "source": [
    "from sklearn.datasets import make_moons, make_blobs\n",
    "X, y = make_moons(n_samples=100, noise=0.1)\n",
    "# visualize in 2D\n",
    "plt.figure(figsize=(5,5))\n",
    "plt.scatter(X[:,0], X[:,1], c=y, s=20, cmap='jet')\n",
    "plt.show()"
   ]
  },
  {
   "cell_type": "code",
   "execution_count": 530,
   "id": "4bfadc5f",
   "metadata": {},
   "outputs": [
    {
     "data": {
      "text/plain": [
       "(torch.Size([5, 2]), torch.Size([5]))"
      ]
     },
     "execution_count": 530,
     "metadata": {},
     "output_type": "execute_result"
    }
   ],
   "source": [
    "# Lets transform them to tensors, and keep only the first to simplify the explanations\n",
    "xs = torch.tensor(X, dtype=torch.float32)[:5]\n",
    "ys = torch.tensor(y)[:5]\n",
    "xs.shape, ys.shape"
   ]
  },
  {
   "cell_type": "code",
   "execution_count": 531,
   "id": "1ad71c6e",
   "metadata": {},
   "outputs": [
    {
     "data": {
      "text/plain": [
       "(tensor([[-0.0082,  1.0205],\n",
       "         [ 0.9575, -0.4847],\n",
       "         [ 0.6388,  0.7369],\n",
       "         [ 2.1202,  0.3876],\n",
       "         [ 1.4710, -0.6086]]),\n",
       " tensor([0, 1, 0, 1, 1]))"
      ]
     },
     "execution_count": 531,
     "metadata": {},
     "output_type": "execute_result"
    }
   ],
   "source": [
    "xs, ys"
   ]
  },
  {
   "cell_type": "code",
   "execution_count": 521,
   "id": "db63c2bf",
   "metadata": {},
   "outputs": [],
   "source": [
    "# Now, lets create a neural network having two hidden layers, with 4 and 5 neurons\n",
    "# Since it is a classification problem, we will use one output layer per class."
   ]
  },
  {
   "cell_type": "code",
   "execution_count": 532,
   "id": "b852951b",
   "metadata": {},
   "outputs": [],
   "source": [
    "g = torch.Generator().manual_seed(31416+2)\n",
    "W1 = torch.randn((2, 4), generator=g, requires_grad=True)\n",
    "b1 = torch.randn((1, 4), generator=g, requires_grad=True)\n",
    "\n",
    "W2 = torch.randn((4, 5), generator=g, requires_grad=True)\n",
    "b2 = torch.randn((1, 5), generator=g, requires_grad=True)\n",
    "\n",
    "W3 = torch.randn((5, 2), generator=g, requires_grad=True)\n",
    "b3 = torch.randn((1, 2), generator=g, requires_grad=True)\n",
    "\n",
    "parameters = [W1, b1, W2, b2, W3, b3]"
   ]
  },
  {
   "cell_type": "code",
   "execution_count": 536,
   "id": "07d16bb5",
   "metadata": {},
   "outputs": [
    {
     "data": {
      "text/plain": [
       "tensor([[-2.8111e+00, -3.4916e-01],\n",
       "        [ 1.7759e-03, -2.9103e+00],\n",
       "        [-1.7438e+00, -1.9053e+00],\n",
       "        [-3.5439e-02, -2.9181e+00],\n",
       "        [ 8.5722e-02, -2.9523e+00]], grad_fn=<AddBackward0>)"
      ]
     },
     "execution_count": 536,
     "metadata": {},
     "output_type": "execute_result"
    }
   ],
   "source": [
    "# forward pass\n",
    "l1_out = (xs @ W1 + b1).tanh()\n",
    "l2_out = (l1_out @ W2 + b2).tanh()\n",
    "l3_out = (l2_out @ W3 + b3)\n",
    "l3_out"
   ]
  },
  {
   "cell_type": "markdown",
   "id": "ca8abcef",
   "metadata": {},
   "source": [
    "We want the output of the network to be class probabilities, so we need to transform the outputs. To be considered as a probability, values must between 0 and 1, and they must add to 1.\n",
    "\n",
    "First, lets apply the exponencial function, to turn all values positive."
   ]
  },
  {
   "cell_type": "code",
   "execution_count": 537,
   "id": "dcc71991",
   "metadata": {},
   "outputs": [
    {
     "data": {
      "text/plain": [
       "tensor([[0.0601, 0.7053],\n",
       "        [1.0018, 0.0545],\n",
       "        [0.1748, 0.1488],\n",
       "        [0.9652, 0.0540],\n",
       "        [1.0895, 0.0522]], grad_fn=<ExpBackward0>)"
      ]
     },
     "execution_count": 537,
     "metadata": {},
     "output_type": "execute_result"
    }
   ],
   "source": [
    "l3_out.exp()"
   ]
  },
  {
   "cell_type": "markdown",
   "id": "1a0fcbd2",
   "metadata": {},
   "source": [
    "Now, re-scale the values so they add 1"
   ]
  },
  {
   "cell_type": "code",
   "execution_count": 558,
   "id": "8a5c8d0a",
   "metadata": {
    "scrolled": true
   },
   "outputs": [
    {
     "ename": "RuntimeError",
     "evalue": "The size of tensor a (2) must match the size of tensor b (5) at non-singleton dimension 1",
     "output_type": "error",
     "traceback": [
      "\u001b[0;31m---------------------------------------------------------------------------\u001b[0m",
      "\u001b[0;31mRuntimeError\u001b[0m                              Traceback (most recent call last)",
      "Input \u001b[0;32mIn [558]\u001b[0m, in \u001b[0;36m<cell line: 2>\u001b[0;34m()\u001b[0m\n\u001b[1;32m      1\u001b[0m value \u001b[38;5;241m=\u001b[39m l3_out\u001b[38;5;241m.\u001b[39mexp()\n\u001b[0;32m----> 2\u001b[0m (\u001b[43mvalue\u001b[49m\u001b[43m \u001b[49m\u001b[38;5;241;43m/\u001b[39;49m\u001b[43m \u001b[49m\u001b[43mvalue\u001b[49m\u001b[38;5;241;43m.\u001b[39;49m\u001b[43msum\u001b[49m\u001b[43m(\u001b[49m\u001b[43mdim\u001b[49m\u001b[38;5;241;43m=\u001b[39;49m\u001b[38;5;241;43m1\u001b[39;49m\u001b[43m)\u001b[49m)\u001b[38;5;241m.\u001b[39mdata\n",
      "\u001b[0;31mRuntimeError\u001b[0m: The size of tensor a (2) must match the size of tensor b (5) at non-singleton dimension 1"
     ]
    }
   ],
   "source": [
    "value = l3_out.exp()\n",
    "(value / value.sum(dim=1)).data"
   ]
  },
  {
   "cell_type": "code",
   "execution_count": 552,
   "id": "62c27dc4",
   "metadata": {},
   "outputs": [
    {
     "data": {
      "text/plain": [
       "(torch.Size([5, 2]), torch.Size([5]))"
      ]
     },
     "execution_count": 552,
     "metadata": {},
     "output_type": "execute_result"
    }
   ],
   "source": [
    "# Lets explore the cause of the error\n",
    "value.shape, value.sum(dim=1).shape"
   ]
  },
  {
   "cell_type": "markdown",
   "id": "85007135",
   "metadata": {},
   "source": [
    "The problem happens because of the way broadcast is performed:\n",
    "- Align the dimension from right to left\n",
    "- Fill missing dimensions with 1\n",
    "- Dimensions are compatible if they have the same size, or all but one contains value 1\n",
    "- Broadcast the values in the values in the vector with 1 as necessary\n",
    "\n",
    "Examples:\n",
    "- 5x1, 1x5 -> 5x5\n",
    "- 6x3, 3 -> 6x3 , 1x3 -> 6x3\n",
    "\n",
    "In the line with the error, torch try to broadcast 5x2 and 5 -> 5x2, 1x5, and they are not compatible.\n",
    "\n",
    "There are some solutions. Here we use the unsqueeze() method that adds a dimension to the tensor, in the **dim** position."
   ]
  },
  {
   "cell_type": "code",
   "execution_count": 721,
   "id": "8d92b23c",
   "metadata": {},
   "outputs": [
    {
     "data": {
      "text/plain": [
       "tensor([[0.8749, 0.1251],\n",
       "        [0.8736, 0.1264],\n",
       "        [0.8686, 0.1314],\n",
       "        [0.7781, 0.2219],\n",
       "        [0.1314, 0.8686]], grad_fn=<SliceBackward0>)"
      ]
     },
     "execution_count": 721,
     "metadata": {},
     "output_type": "execute_result"
    }
   ],
   "source": [
    "value = l3_out.exp()\n",
    "probs = (value / value.sum(dim=1).unsqueeze(dim=1))\n",
    "probs[:5]"
   ]
  },
  {
   "cell_type": "code",
   "execution_count": 562,
   "id": "e6f58249",
   "metadata": {},
   "outputs": [
    {
     "data": {
      "text/plain": [
       "tensor([1., 1., 1., 1., 1.])"
      ]
     },
     "execution_count": 562,
     "metadata": {},
     "output_type": "execute_result"
    }
   ],
   "source": [
    "# Safety check\n",
    "probs.sum(dim=1)"
   ]
  },
  {
   "cell_type": "markdown",
   "id": "f968c4ff",
   "metadata": {},
   "source": [
    "Now we have probabilities as the output of the network. How to create a loss function, using this probabilities.\n",
    "\n",
    "One commonly used idea is to use the maximal likelihood estimation. It estimates the quality of the result by multiplying the probabilities obtained for the correct class."
   ]
  },
  {
   "cell_type": "code",
   "execution_count": 563,
   "id": "8800f07c",
   "metadata": {},
   "outputs": [
    {
     "data": {
      "text/plain": [
       "tensor([[0.0786, 0.9214],\n",
       "        [0.9484, 0.0516],\n",
       "        [0.5403, 0.4597],\n",
       "        [0.9470, 0.0530],\n",
       "        [0.9543, 0.0457]])"
      ]
     },
     "metadata": {},
     "output_type": "display_data"
    },
    {
     "data": {
      "text/plain": [
       "tensor([0, 1, 0, 1, 1])"
      ]
     },
     "execution_count": 563,
     "metadata": {},
     "output_type": "execute_result"
    }
   ],
   "source": [
    "display(probs)\n",
    "ys"
   ]
  },
  {
   "cell_type": "code",
   "execution_count": 565,
   "id": "856f6c91",
   "metadata": {},
   "outputs": [
    {
     "data": {
      "text/plain": [
       "(tensor(0.0786),\n",
       " tensor(0.0516),\n",
       " tensor(0.5403),\n",
       " tensor(0.0530),\n",
       " tensor(0.0457))"
      ]
     },
     "execution_count": 565,
     "metadata": {},
     "output_type": "execute_result"
    }
   ],
   "source": [
    "# In our case\n",
    "probs[0, 0], probs[1, 1], probs[2, 0], probs[3, 1], probs[4,1]"
   ]
  },
  {
   "cell_type": "code",
   "execution_count": 568,
   "id": "5bc96e82",
   "metadata": {},
   "outputs": [
    {
     "data": {
      "text/plain": [
       "tensor([0.0786, 0.0516, 0.5403, 0.0530, 0.0457])"
      ]
     },
     "execution_count": 568,
     "metadata": {},
     "output_type": "execute_result"
    }
   ],
   "source": [
    "# How to obtain this probabilities using tensor manipulation: using a type of indexing\n",
    "probs[torch.arange(len(ys)), ys]"
   ]
  },
  {
   "cell_type": "code",
   "execution_count": 572,
   "id": "e58282c1",
   "metadata": {
    "scrolled": true
   },
   "outputs": [
    {
     "data": {
      "text/plain": [
       "tensor(5.3071e-06)"
      ]
     },
     "execution_count": 572,
     "metadata": {},
     "output_type": "execute_result"
    }
   ],
   "source": [
    "# lets multiply them\n",
    "likelihood = probs[torch.arange(len(ys)), ys].prod()\n",
    "likelihood"
   ]
  },
  {
   "cell_type": "markdown",
   "id": "8512039d",
   "metadata": {},
   "source": [
    "This is a quite small number, and we only have 5 results ... imagine when we have 100s\n",
    "\n",
    "Solution, use the logarithms, and average the results"
   ]
  },
  {
   "cell_type": "code",
   "execution_count": 576,
   "id": "255acccc",
   "metadata": {},
   "outputs": [
    {
     "data": {
      "text/plain": [
       "tensor(-2.4293)"
      ]
     },
     "execution_count": 576,
     "metadata": {},
     "output_type": "execute_result"
    }
   ],
   "source": [
    "log_likelihood = probs[torch.arange(len(ys)), ys].log().mean()\n",
    "log_likelihood"
   ]
  },
  {
   "cell_type": "markdown",
   "id": "45513f5e",
   "metadata": {},
   "source": [
    "Since likelihood is higher (so log_likelihood) in better results, and we need a loss function, we will invert the sign.\n",
    "\n",
    "**Note:** All performed operations are derivables!"
   ]
  },
  {
   "cell_type": "code",
   "execution_count": 579,
   "id": "677498b6",
   "metadata": {},
   "outputs": [
    {
     "data": {
      "text/plain": [
       "tensor(2.4293)"
      ]
     },
     "execution_count": 579,
     "metadata": {},
     "output_type": "execute_result"
    }
   ],
   "source": [
    "nll = - log_likelihood\n",
    "nll"
   ]
  },
  {
   "cell_type": "markdown",
   "id": "4fbeaef1",
   "metadata": {},
   "source": [
    "Lets put it all together"
   ]
  },
  {
   "cell_type": "code",
   "execution_count": 581,
   "id": "f347ea0d",
   "metadata": {},
   "outputs": [],
   "source": [
    "xs = torch.tensor(X, dtype=torch.float32)\n",
    "ys = torch.tensor(y)"
   ]
  },
  {
   "cell_type": "code",
   "execution_count": 704,
   "id": "6b309845",
   "metadata": {},
   "outputs": [],
   "source": [
    "g = torch.Generator().manual_seed(31416+2)\n",
    "W1 = torch.randn((2, 4), generator=g, requires_grad=True)\n",
    "b1 = torch.randn((1, 4), generator=g, requires_grad=True)\n",
    "\n",
    "W2 = torch.randn((4, 5), generator=g, requires_grad=True)\n",
    "b2 = torch.randn((1, 5), generator=g, requires_grad=True)\n",
    "\n",
    "W3 = torch.randn((5, 2), generator=g, requires_grad=True)\n",
    "b3 = torch.randn((1, 2), generator=g, requires_grad=True)\n",
    "\n",
    "parameters = [W1, b1, W2, b2, W3, b3]"
   ]
  },
  {
   "cell_type": "code",
   "execution_count": 705,
   "id": "6a1c4107",
   "metadata": {
    "scrolled": true
   },
   "outputs": [
    {
     "name": "stdout",
     "output_type": "stream",
     "text": [
      "Epoch 0, loss=0.9150870442390442\n",
      "Epoch 1000, loss=0.3188113868236542\n",
      "Epoch 2000, loss=0.2514873445034027\n",
      "Epoch 3000, loss=0.1349702924489975\n",
      "Epoch 4000, loss=0.12973123788833618\n",
      "Epoch 5000, loss=0.12851276993751526\n",
      "Epoch 6000, loss=0.12800560891628265\n",
      "Epoch 7000, loss=0.1277344673871994\n",
      "Epoch 8000, loss=0.12756778299808502\n",
      "Epoch 9000, loss=0.12745577096939087\n",
      "0.1273757964372635\n"
     ]
    }
   ],
   "source": [
    "learning_rate = 0.1\n",
    "epochs = 10000\n",
    "\n",
    "for epoch in range(epochs):\n",
    "    # forward pass\n",
    "    l1_out = (xs @ W1 + b1).tanh()\n",
    "    l2_out = (l1_out @ W2 + b2).tanh()\n",
    "    l3_out = (l2_out @ W3 + b3).tanh()\n",
    "    value = l3_out.exp()\n",
    "    probs = (value / value.sum(dim=1).unsqueeze(dim=1))\n",
    "    log_likelihood = probs[torch.arange(len(ys)), ys].log().mean()\n",
    "    loss = -log_likelihood\n",
    "    \n",
    "    if epoch % 1000 == 0:\n",
    "        print(f\"Epoch {epoch}, loss={loss.item()}\")\n",
    "    \n",
    "    # backward pass, need to remove the gradients\n",
    "    for p in parameters:\n",
    "        p.grad = None\n",
    "    loss.backward()\n",
    "\n",
    "    # update parameters\n",
    "    for p in parameters:\n",
    "        p.data += -learning_rate * p.grad\n",
    "print(loss.item())"
   ]
  },
  {
   "cell_type": "code",
   "execution_count": 707,
   "id": "ba4b7985",
   "metadata": {},
   "outputs": [
    {
     "data": {
      "text/plain": [
       "tensor([True, True, True, True, True, True, True, True, True, True, True, True,\n",
       "        True, True, True, True, True, True, True, True, True, True, True, True,\n",
       "        True, True, True, True, True, True, True, True, True, True, True, True,\n",
       "        True, True, True, True, True, True, True, True, True, True, True, True,\n",
       "        True, True, True, True, True, True, True, True, True, True, True, True,\n",
       "        True, True, True, True, True, True, True, True, True, True, True, True,\n",
       "        True, True, True, True, True, True, True, True, True, True, True, True,\n",
       "        True, True, True, True, True, True, True, True, True, True, True, True,\n",
       "        True, True, True, True])"
      ]
     },
     "execution_count": 707,
     "metadata": {},
     "output_type": "execute_result"
    }
   ],
   "source": [
    "# Lets calculate the classifier accuracy\n",
    "probs[torch.arange(len(ys)), ys] > 0.5"
   ]
  },
  {
   "cell_type": "markdown",
   "id": "360a6633",
   "metadata": {},
   "source": [
    "The classifier commits no mistakes, so it's accuracy is 1.0. \n",
    "\n",
    "Lets plot the decision boundary"
   ]
  },
  {
   "cell_type": "code",
   "execution_count": 710,
   "id": "584beabb",
   "metadata": {
    "scrolled": true
   },
   "outputs": [
    {
     "data": {
      "text/plain": [
       "array([[-2.2273091 , -1.60864877],\n",
       "       [-1.9773091 , -1.60864877],\n",
       "       [-1.7273091 , -1.60864877],\n",
       "       [-1.4773091 , -1.60864877],\n",
       "       [-1.2273091 , -1.60864877],\n",
       "       [-0.9773091 , -1.60864877],\n",
       "       [-0.7273091 , -1.60864877],\n",
       "       [-0.4773091 , -1.60864877],\n",
       "       [-0.2273091 , -1.60864877],\n",
       "       [ 0.0226909 , -1.60864877]])"
      ]
     },
     "execution_count": 710,
     "metadata": {},
     "output_type": "execute_result"
    }
   ],
   "source": [
    "h = 0.25\n",
    "x_min, x_max = X[:, 0].min() - 1, X[:, 0].max() + 1\n",
    "y_min, y_max = X[:, 1].min() - 1, X[:, 1].max() + 1\n",
    "xx, yy = np.meshgrid(np.arange(x_min, x_max, h),\n",
    "                     np.arange(y_min, y_max, h))\n",
    "Xmesh = np.c_[xx.ravel(), yy.ravel()]\n",
    "Xmesh[:10]"
   ]
  },
  {
   "cell_type": "code",
   "execution_count": 715,
   "id": "f3e7822b",
   "metadata": {
    "scrolled": true
   },
   "outputs": [
    {
     "data": {
      "text/plain": [
       "tensor([[0.8749, 0.1251],\n",
       "        [0.8736, 0.1264],\n",
       "        [0.8686, 0.1314],\n",
       "        [0.7781, 0.2219],\n",
       "        [0.1314, 0.8686]], grad_fn=<SliceBackward0>)"
      ]
     },
     "execution_count": 715,
     "metadata": {},
     "output_type": "execute_result"
    }
   ],
   "source": [
    "xs_full = torch.tensor(Xmesh).float()\n",
    "l1_out = (xs_full @ W1 + b1).tanh()\n",
    "l2_out = (l1_out @ W2 + b2).tanh()\n",
    "l3_out = (l2_out @ W3 + b3).tanh()\n",
    "value = l3_out.exp()\n",
    "probs = (value / value.sum(dim=1).unsqueeze(dim=1))\n",
    "probs[:5]"
   ]
  },
  {
   "cell_type": "code",
   "execution_count": 718,
   "id": "ef3f7e12",
   "metadata": {},
   "outputs": [
    {
     "data": {
      "text/plain": [
       "tensor([0, 0, 0, 0, 1, 1, 1, 1, 1, 1, 1, 1, 1, 1, 1, 1, 1, 1, 1, 1, 1, 1, 0, 0,\n",
       "        0, 0, 1, 1, 1, 1, 1, 1, 1, 1, 1, 1, 1, 1, 1, 1, 1, 1, 1, 1, 0, 0, 0, 0,\n",
       "        0, 1, 1, 1, 1, 1, 1, 1, 1, 1, 1, 1, 1, 1, 1, 1, 1, 1, 0, 0, 0, 0, 0, 1,\n",
       "        1, 1, 1, 1, 1, 1, 1, 1, 1, 1, 1, 1, 1, 1, 1, 1, 0, 0, 0, 0, 0, 0, 1, 1,\n",
       "        1, 1, 1, 1, 1, 1, 1, 1, 1, 1, 1, 1, 1, 1, 0, 0, 0, 0, 0, 0, 1, 1, 1, 1,\n",
       "        1, 1, 1, 1, 1, 1, 1, 1, 1, 1, 1, 1, 0, 0, 0, 0, 0, 0, 1, 1, 1, 1, 1, 1,\n",
       "        0, 0, 1, 1, 1, 1, 1, 1, 1, 1, 0, 0, 0, 0, 0, 0, 0, 1, 1, 1, 1, 0, 0, 0,\n",
       "        0, 1, 1, 1, 1, 1, 1, 1, 0, 0, 0, 0, 0, 0, 0, 0, 1, 1, 1, 0, 0, 0, 0, 0,\n",
       "        1, 1, 1, 1, 1, 1, 0, 0, 0, 0, 0, 0, 0, 0, 0, 1, 0, 0, 0, 0, 0, 0, 1, 1,\n",
       "        1, 1, 1, 1, 0, 0, 0, 0, 0, 0, 0, 0, 0, 0, 0, 0, 0, 0, 0, 0, 0, 1, 1, 1,\n",
       "        1, 1, 0, 0, 0, 0, 0, 0, 0, 0, 0, 0, 0, 0, 0, 0, 0, 0, 0, 1, 1, 1, 1, 1,\n",
       "        0, 0, 0, 0, 0, 0, 0, 0, 0, 0, 0, 0, 0, 0, 0, 0, 0, 0, 1, 1, 1, 1, 0, 0,\n",
       "        0, 0, 0, 0, 0, 0, 0, 0, 0, 0, 0, 0, 0, 0, 0, 0, 0, 1, 1, 1, 0, 0, 0, 0,\n",
       "        0, 0, 0, 0, 0, 0, 0, 0, 0, 0, 0, 0, 0, 0, 0, 1, 1, 1, 0, 0, 0, 0, 0, 0,\n",
       "        0, 0, 0, 0, 0, 0, 0, 0, 0, 0, 0, 0, 0, 0, 1, 1])"
      ]
     },
     "execution_count": 718,
     "metadata": {},
     "output_type": "execute_result"
    }
   ],
   "source": [
    "scores = torch.max(probs, dim=1).indices\n",
    "scores"
   ]
  },
  {
   "cell_type": "code",
   "execution_count": 720,
   "id": "e0c23c91",
   "metadata": {},
   "outputs": [
    {
     "data": {
      "text/plain": [
       "(-1.6086487731450796, 2.1413512268549204)"
      ]
     },
     "execution_count": 720,
     "metadata": {},
     "output_type": "execute_result"
    },
    {
     "data": {
      "image/png": "[encoded data removed]",
      "text/plain": [
       "<Figure size 640x480 with 1 Axes>"
      ]
     },
     "metadata": {},
     "output_type": "display_data"
    }
   ],
   "source": [
    "Z = np.array([s.data > 0 for s in scores])\n",
    "Z = Z.reshape(xx.shape)\n",
    "\n",
    "fig = plt.figure()\n",
    "plt.contourf(xx, yy, Z, cmap=plt.cm.Spectral, alpha=0.8)\n",
    "plt.scatter(X[:, 0], X[:, 1], c=y, s=40, cmap=plt.cm.Spectral)\n",
    "plt.xlim(xx.min(), xx.max())\n",
    "plt.ylim(yy.min(), yy.max())"
   ]
  },
  {
   "cell_type": "code",
   "execution_count": 746,
   "id": "46c1775c",
   "metadata": {},
   "outputs": [],
   "source": [
    "xs = torch.tensor(X, dtype=torch.float32)\n",
    "ys = torch.tensor(y)\n",
    "\n",
    "g = torch.Generator().manual_seed(31416+2)\n",
    "W1 = torch.randn((2, 4), generator=g, requires_grad=True)\n",
    "b1 = torch.randn((1, 4), generator=g, requires_grad=True)\n",
    "\n",
    "W2 = torch.randn((4, 5), generator=g, requires_grad=True)\n",
    "b2 = torch.randn((1, 5), generator=g, requires_grad=True)\n",
    "\n",
    "W3 = torch.randn((5, 2), generator=g, requires_grad=True)\n",
    "b3 = torch.randn((1, 2), generator=g, requires_grad=True)"
   ]
  },
  {
   "cell_type": "code",
   "execution_count": 747,
   "id": "53b77bcb",
   "metadata": {},
   "outputs": [
    {
     "data": {
      "text/plain": [
       "tensor(0.9151, grad_fn=<NegBackward0>)"
      ]
     },
     "execution_count": 747,
     "metadata": {},
     "output_type": "execute_result"
    }
   ],
   "source": [
    "# fully connected layers\n",
    "l1_out = (xs @ W1 + b1).tanh()\n",
    "l2_out = (l1_out @ W2 + b2).tanh()\n",
    "l3_out = (l2_out @ W3 + b3).tanh()\n",
    "\n",
    "# soft-max layer\n",
    "value = l3_out.exp()\n",
    "probs = (value / value.sum(dim=1).unsqueeze(dim=1))\n",
    "\n",
    "# entropy loss\n",
    "log_likelihood = probs[torch.arange(len(ys)), ys].log().mean()\n",
    "loss = -log_likelihood"
   ]
  },
  {
   "cell_type": "code",
   "execution_count": 758,
   "id": "0b8ca046",
   "metadata": {},
   "outputs": [
    {
     "data": {
      "text/plain": [
       "tensor(0.7332, grad_fn=<NllLossBackward0>)"
      ]
     },
     "execution_count": 758,
     "metadata": {},
     "output_type": "execute_result"
    }
   ],
   "source": [
    "import torch.nn as nn\n",
    "\n",
    "# Using torch fully connected layers\n",
    "l1 = nn.Linear(in_features=2, out_features=4)\n",
    "l2 = nn.Linear(in_features=4, out_features=5)\n",
    "l3 = nn.Linear(in_features=5, out_features=2)\n",
    "\n",
    "x = l1(xs).tanh()\n",
    "x = l2(x).tanh()\n",
    "x = l3(x).tanh()\n",
    "\n",
    "# soft-max layer + entropy loss = cross_entropy\n",
    "loss = F.cross_entropy(x, ys)"
   ]
  },
  {
   "cell_type": "code",
   "execution_count": 764,
   "id": "d3e8757e",
   "metadata": {},
   "outputs": [],
   "source": [
    "# train the network\n",
    "xs = torch.tensor(X, dtype=torch.float32)\n",
    "ys = torch.tensor(y)\n",
    "\n",
    "l1 = nn.Linear(in_features=2, out_features=4)\n",
    "l2 = nn.Linear(in_features=4, out_features=5)\n",
    "l3 = nn.Linear(in_features=5, out_features=2)\n",
    "parameters = list(l1.parameters()) + list(l2.parameters()) + list(l3.parameters())"
   ]
  },
  {
   "cell_type": "code",
   "execution_count": 767,
   "id": "ba0a5c45",
   "metadata": {},
   "outputs": [
    {
     "name": "stdout",
     "output_type": "stream",
     "text": [
      "Epoch 0, loss=0.12715943157672882\n",
      "Epoch 1000, loss=0.12714418768882751\n",
      "Epoch 2000, loss=0.1271306723356247\n",
      "Epoch 3000, loss=0.12711863219738007\n",
      "Epoch 4000, loss=0.12710784375667572\n",
      "Epoch 5000, loss=0.12709812819957733\n",
      "Epoch 6000, loss=0.12708930671215057\n",
      "Epoch 7000, loss=0.12708130478858948\n",
      "Epoch 8000, loss=0.12707401812076569\n",
      "Epoch 9000, loss=0.12706734240055084\n",
      "0.12706118822097778\n"
     ]
    }
   ],
   "source": [
    "learning_rate = 0.1\n",
    "epochs = 10000\n",
    "\n",
    "for epoch in range(epochs):\n",
    "    \n",
    "    # forward pass\n",
    "    x = l1(xs).tanh()\n",
    "    x = l2(x).tanh()\n",
    "    x = l3(x).tanh()\n",
    "    loss = F.cross_entropy(x, ys)\n",
    "    \n",
    "    if epoch % 1000 == 0:\n",
    "        print(f\"Epoch {epoch}, loss={loss.item()}\")\n",
    "    \n",
    "    # backward pass, need to remove the gradients\n",
    "    for p in parameters:\n",
    "        p.grad = None\n",
    "    loss.backward()\n",
    "\n",
    "    # update parameters\n",
    "    for p in parameters:\n",
    "        p.data += -learning_rate * p.grad\n",
    "        \n",
    "print(loss.item())"
   ]
  }
 ],
 "metadata": {
  "kernelspec": {
   "display_name": "Python [conda env:python_lectures]",
   "language": "python",
   "name": "conda-env-python_lectures-py"
  },
  "language_info": {
   "codemirror_mode": {
    "name": "ipython",
    "version": 3
   },
   "file_extension": ".py",
   "mimetype": "text/x-python",
   "name": "python",
   "nbconvert_exporter": "python",
   "pygments_lexer": "ipython3",
   "version": "3.8.16"
  }
 },
 "nbformat": 4,
 "nbformat_minor": 5
}
