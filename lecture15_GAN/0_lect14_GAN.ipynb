{
 "cells": [
  {
   "cell_type": "markdown",
   "id": "b9a411e1",
   "metadata": {},
   "source": [
    "# Lecture 14. Generative Adversarial Networks\n",
    "\n",
    "Outline:\n",
    "- Introduction to Generative Adversarial Networks (GAN) (presentation)\n",
    "- [Generative Adversarial Networks in Slanted Land](slanted_land.ipynb)"
   ]
  }
 ],
 "metadata": {
  "kernelspec": {
   "display_name": "Python [conda env:python_lectures]",
   "language": "python",
   "name": "conda-env-python_lectures-py"
  },
  "language_info": {
   "codemirror_mode": {
    "name": "ipython",
    "version": 3
   },
   "file_extension": ".py",
   "mimetype": "text/x-python",
   "name": "python",
   "nbconvert_exporter": "python",
   "pygments_lexer": "ipython3",
   "version": "3.8.16"
  }
 },
 "nbformat": 4,
 "nbformat_minor": 5
}
