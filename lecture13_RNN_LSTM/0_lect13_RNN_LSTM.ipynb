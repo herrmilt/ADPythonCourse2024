{
 "cells": [
  {
   "cell_type": "markdown",
   "id": "9911371c",
   "metadata": {},
   "source": [
    "# Lecture 13. RNN and LSTM\n",
    "\n",
    "Outline:\n",
    "- Introduction to Recurrent Nerual Networks (RNN) (presentation)\n",
    "- [Recurrent Neural Networks in Python](rnn.ipynb)\n",
    "- [RNN in real problems](rnn_real_problem.ipynb)\n",
    "- Introduction to Long Short-term Memories (LSTM) (presentation)\n",
    "- [LSTM and GRU in Python](lstm.ipynb)"
   ]
  }
 ],
 "metadata": {
  "kernelspec": {
   "display_name": "python_lectures",
   "language": "python",
   "name": "python_lectures"
  },
  "language_info": {
   "codemirror_mode": {
    "name": "ipython",
    "version": 3
   },
   "file_extension": ".py",
   "mimetype": "text/x-python",
   "name": "python",
   "nbconvert_exporter": "python",
   "pygments_lexer": "ipython3",
   "version": "3.8.16"
  }
 },
 "nbformat": 4,
 "nbformat_minor": 5
}
