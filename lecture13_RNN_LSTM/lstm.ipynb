{
 "cells": [
  {
   "cell_type": "markdown",
   "id": "128a0315",
   "metadata": {},
   "source": [
    "# Recurrent Neural Network (RNN) in Python"
   ]
  },
  {
   "cell_type": "code",
   "execution_count": 1,
   "id": "e9e33d55",
   "metadata": {},
   "outputs": [
    {
     "name": "stdout",
     "output_type": "stream",
     "text": [
      "GPU /device:GPU:0 configured\n"
     ]
    }
   ],
   "source": [
    "import pandas as pd\n",
    "import numpy as np\n",
    "import matplotlib.pyplot as plt\n",
    "\n",
    "import os\n",
    "\n",
    "os.environ['TF_CPP_MIN_LOG_LEVEL'] = '3'\n",
    "import warnings\n",
    "warnings.filterwarnings(\"ignore\")\n",
    "import os\n",
    "os.environ['TF_CPP_MIN_LOG_LEVEL'] = '3'\n",
    "import tensorflow as tf\n",
    "tf.get_logger().setLevel('ERROR')\n",
    "from tensorflow import keras\n",
    "import tensorflow_datasets as tfds\n",
    "gpus = tf.config.experimental.list_physical_devices('GPU')\n",
    "\n",
    "if gpus:\n",
    "    tf.config.experimental.set_visible_devices(gpus[0], 'GPU')\n",
    "    tf.config.experimental.set_memory_growth(gpus[0], True)\n",
    "    print('GPU', tf.test.gpu_device_name(), 'configured')"
   ]
  },
  {
   "cell_type": "code",
   "execution_count": null,
   "id": "f19a522e",
   "metadata": {},
   "outputs": [],
   "source": []
  },
  {
   "cell_type": "code",
   "execution_count": 30,
   "id": "a1c6d107",
   "metadata": {},
   "outputs": [
    {
     "data": {
      "text/plain": [
       "array([ 98,  48, 127, ..., 158,  75, 123])"
      ]
     },
     "execution_count": 30,
     "metadata": {},
     "output_type": "execute_result"
    }
   ],
   "source": [
    "def generate_sequences(n_samples, seq_length, max_val=100):\n",
    "    X = np.random.randint(1, max_val, size=(n_samples, seq_length))\n",
    "    y = X[:, 0] + X[:, -1]  # Sum of the first and last elements\n",
    "    X = np.expand_dims(X, axis=2)  # Adding the feature axis for LSTM compatibility\n",
    "    return X, y\n",
    "\n",
    "n_samples = 10000\n",
    "seq_length = 30  # Long enough to introduce long-term dependencies\n",
    "\n",
    "X, y = generate_sequences(n_samples, seq_length)\n",
    "y"
   ]
  },
  {
   "cell_type": "code",
   "execution_count": 18,
   "id": "17288379",
   "metadata": {},
   "outputs": [
    {
     "name": "stdout",
     "output_type": "stream",
     "text": [
      "Model: \"sequential_12\"\n",
      "_________________________________________________________________\n",
      " Layer (type)                Output Shape              Param #   \n",
      "=================================================================\n",
      " simple_rnn_6 (SimpleRNN)    (None, 20)                440       \n",
      "                                                                 \n",
      " dense_12 (Dense)            (None, 1)                 21        \n",
      "                                                                 \n",
      "=================================================================\n",
      "Total params: 461\n",
      "Trainable params: 461\n",
      "Non-trainable params: 0\n",
      "_________________________________________________________________\n"
     ]
    }
   ],
   "source": [
    "from tensorflow.keras.models import Sequential\n",
    "from tensorflow.keras.layers import SimpleRNN, Dense\n",
    "\n",
    "def build_rnn_model(input_shape):\n",
    "    model = Sequential([\n",
    "        SimpleRNN(20, input_shape=input_shape, activation='relu'),\n",
    "        Dense(1)\n",
    "    ])\n",
    "    model.compile(optimizer='adam', loss='mse')\n",
    "    return model\n",
    "\n",
    "rnn_model = build_rnn_model((seq_length, 1))\n",
    "rnn_model.summary()"
   ]
  },
  {
   "cell_type": "code",
   "execution_count": 16,
   "id": "15b37d5c",
   "metadata": {},
   "outputs": [
    {
     "name": "stdout",
     "output_type": "stream",
     "text": [
      "Epoch 1/20\n",
      "250/250 [==============================] - 3s 10ms/step - loss: 2959.5430 - val_loss: 1266.4523\n",
      "Epoch 2/20\n",
      "250/250 [==============================] - 2s 9ms/step - loss: 1103.3162 - val_loss: 961.3727\n",
      "Epoch 3/20\n",
      "250/250 [==============================] - 2s 9ms/step - loss: 871.1271 - val_loss: 830.6386\n",
      "Epoch 4/20\n",
      "250/250 [==============================] - 2s 9ms/step - loss: 754.9861 - val_loss: 828.2008\n",
      "Epoch 5/20\n",
      "250/250 [==============================] - 2s 9ms/step - loss: 642.7646 - val_loss: 621.0215\n",
      "Epoch 6/20\n",
      "250/250 [==============================] - 2s 9ms/step - loss: 515.7472 - val_loss: 462.9027\n",
      "Epoch 7/20\n",
      "250/250 [==============================] - 2s 9ms/step - loss: 438.6680 - val_loss: 411.4871\n",
      "Epoch 8/20\n",
      "250/250 [==============================] - 2s 9ms/step - loss: 361.0665 - val_loss: 315.6364\n",
      "Epoch 9/20\n",
      "250/250 [==============================] - 2s 9ms/step - loss: 293.6190 - val_loss: 253.3861\n",
      "Epoch 10/20\n",
      "250/250 [==============================] - 2s 9ms/step - loss: 220.6303 - val_loss: 190.0178\n",
      "Epoch 11/20\n",
      "250/250 [==============================] - 2s 9ms/step - loss: 165.8910 - val_loss: 137.2918\n",
      "Epoch 12/20\n",
      "250/250 [==============================] - 2s 9ms/step - loss: 122.5619 - val_loss: 104.6740\n",
      "Epoch 13/20\n",
      "250/250 [==============================] - 2s 9ms/step - loss: 92.6244 - val_loss: 78.4555\n",
      "Epoch 14/20\n",
      "250/250 [==============================] - 2s 9ms/step - loss: 69.1804 - val_loss: 61.9103\n",
      "Epoch 15/20\n",
      "250/250 [==============================] - 2s 9ms/step - loss: 53.3692 - val_loss: 49.6544\n",
      "Epoch 16/20\n",
      "250/250 [==============================] - 2s 9ms/step - loss: 51.8343 - val_loss: 45.0518\n",
      "Epoch 17/20\n",
      "250/250 [==============================] - 2s 9ms/step - loss: 40.3495 - val_loss: 61.9083\n",
      "Epoch 18/20\n",
      "250/250 [==============================] - 2s 9ms/step - loss: 32.2347 - val_loss: 43.3725\n",
      "Epoch 19/20\n",
      "250/250 [==============================] - 2s 9ms/step - loss: 32.4152 - val_loss: 28.8200\n",
      "Epoch 20/20\n",
      "250/250 [==============================] - 2s 9ms/step - loss: 26.9745 - val_loss: 24.2625\n"
     ]
    },
    {
     "data": {
      "text/plain": [
       "<keras.callbacks.History at 0x7f6f80d3f370>"
      ]
     },
     "execution_count": 16,
     "metadata": {},
     "output_type": "execute_result"
    }
   ],
   "source": [
    "rnn_model.fit(X, y, epochs=20, validation_split=0.2, verbose=1)"
   ]
  },
  {
   "cell_type": "code",
   "execution_count": 19,
   "id": "7842803f",
   "metadata": {},
   "outputs": [
    {
     "name": "stdout",
     "output_type": "stream",
     "text": [
      "Model: \"sequential_13\"\n",
      "_________________________________________________________________\n",
      " Layer (type)                Output Shape              Param #   \n",
      "=================================================================\n",
      " lstm_4 (LSTM)               (None, 20)                1760      \n",
      "                                                                 \n",
      " dense_13 (Dense)            (None, 1)                 21        \n",
      "                                                                 \n",
      "=================================================================\n",
      "Total params: 1,781\n",
      "Trainable params: 1,781\n",
      "Non-trainable params: 0\n",
      "_________________________________________________________________\n"
     ]
    }
   ],
   "source": [
    "from tensorflow.keras.layers import LSTM\n",
    "\n",
    "def build_lstm_model(input_shape):\n",
    "    model = Sequential([\n",
    "        LSTM(20, input_shape=input_shape, activation='relu'),\n",
    "        Dense(1)\n",
    "    ])\n",
    "    model.compile(optimizer='adam', loss='mse')\n",
    "    return model\n",
    "\n",
    "lstm_model = build_lstm_model((seq_length, 1))\n",
    "lstm_model.summary()"
   ]
  },
  {
   "cell_type": "code",
   "execution_count": 20,
   "id": "d524d04e",
   "metadata": {
    "scrolled": true
   },
   "outputs": [
    {
     "name": "stdout",
     "output_type": "stream",
     "text": [
      "Epoch 1/20\n",
      "250/250 [==============================] - 5s 15ms/step - loss: 4058.2058 - val_loss: 2823.4817\n",
      "Epoch 2/20\n",
      "250/250 [==============================] - 4s 14ms/step - loss: 1305.5610 - val_loss: 1200.1854\n",
      "Epoch 3/20\n",
      "250/250 [==============================] - 4s 15ms/step - loss: 5583.3218 - val_loss: 5244.1855\n",
      "Epoch 4/20\n",
      "250/250 [==============================] - 4s 14ms/step - loss: 2259.4944 - val_loss: 957.7552\n",
      "Epoch 5/20\n",
      "250/250 [==============================] - 4s 14ms/step - loss: 788.6459 - val_loss: 715.7355\n",
      "Epoch 6/20\n",
      "250/250 [==============================] - 4s 14ms/step - loss: 519.9259 - val_loss: 407.3305\n",
      "Epoch 7/20\n",
      "250/250 [==============================] - 4s 14ms/step - loss: 326.3141 - val_loss: 277.8781\n",
      "Epoch 8/20\n",
      "250/250 [==============================] - 4s 14ms/step - loss: 247.2742 - val_loss: 214.1387\n",
      "Epoch 9/20\n",
      "250/250 [==============================] - 4s 15ms/step - loss: 200.6827 - val_loss: 183.3936\n",
      "Epoch 10/20\n",
      "250/250 [==============================] - 4s 15ms/step - loss: 168.4907 - val_loss: 167.4062\n",
      "Epoch 11/20\n",
      "250/250 [==============================] - 4s 15ms/step - loss: 152.6876 - val_loss: 165.3852\n",
      "Epoch 12/20\n",
      "250/250 [==============================] - 4s 14ms/step - loss: 129.3321 - val_loss: 126.1470\n",
      "Epoch 13/20\n",
      "250/250 [==============================] - 4s 14ms/step - loss: 117.0090 - val_loss: 125.2100\n",
      "Epoch 14/20\n",
      "250/250 [==============================] - 4s 14ms/step - loss: 102.2983 - val_loss: 95.1071\n",
      "Epoch 15/20\n",
      "250/250 [==============================] - 4s 14ms/step - loss: 88.6329 - val_loss: 79.6492\n",
      "Epoch 16/20\n",
      "250/250 [==============================] - 4s 15ms/step - loss: 76.8296 - val_loss: 74.5760\n",
      "Epoch 17/20\n",
      "250/250 [==============================] - 4s 14ms/step - loss: 67.6907 - val_loss: 59.1567\n",
      "Epoch 18/20\n",
      "250/250 [==============================] - 4s 15ms/step - loss: 59.8396 - val_loss: 50.6129\n",
      "Epoch 19/20\n",
      "250/250 [==============================] - 4s 15ms/step - loss: 48.9295 - val_loss: 44.2141\n",
      "Epoch 20/20\n",
      "250/250 [==============================] - 4s 14ms/step - loss: 42.2970 - val_loss: 39.3255\n"
     ]
    },
    {
     "data": {
      "text/plain": [
       "<keras.callbacks.History at 0x7f6f8037fca0>"
      ]
     },
     "execution_count": 20,
     "metadata": {},
     "output_type": "execute_result"
    }
   ],
   "source": [
    "lstm_model.fit(X, y, epochs=20, validation_split=0.2, verbose=1)"
   ]
  },
  {
   "cell_type": "code",
   "execution_count": 21,
   "id": "46d50d84",
   "metadata": {},
   "outputs": [
    {
     "name": "stdout",
     "output_type": "stream",
     "text": [
      "Model: \"sequential_14\"\n",
      "_________________________________________________________________\n",
      " Layer (type)                Output Shape              Param #   \n",
      "=================================================================\n",
      " gru_2 (GRU)                 (None, 20)                1380      \n",
      "                                                                 \n",
      " dense_14 (Dense)            (None, 1)                 21        \n",
      "                                                                 \n",
      "=================================================================\n",
      "Total params: 1,401\n",
      "Trainable params: 1,401\n",
      "Non-trainable params: 0\n",
      "_________________________________________________________________\n"
     ]
    }
   ],
   "source": [
    "from tensorflow.keras.layers import GRU\n",
    "\n",
    "def build_gru_model(input_shape):\n",
    "    model = Sequential([\n",
    "        GRU(20, input_shape=input_shape, activation='relu'),\n",
    "        Dense(1)\n",
    "    ])\n",
    "    model.compile(optimizer='adam', loss='mse')\n",
    "    return model\n",
    "\n",
    "gru_model = build_gru_model((seq_length, 1))\n",
    "gru_model.summary()"
   ]
  },
  {
   "cell_type": "code",
   "execution_count": 22,
   "id": "05c2f76e",
   "metadata": {},
   "outputs": [
    {
     "name": "stdout",
     "output_type": "stream",
     "text": [
      "Epoch 1/20\n",
      "250/250 [==============================] - 6s 17ms/step - loss: 3990.0830 - val_loss: 933.2557\n",
      "Epoch 2/20\n",
      "250/250 [==============================] - 4s 16ms/step - loss: 348.4338 - val_loss: 135.3316\n",
      "Epoch 3/20\n",
      "250/250 [==============================] - 4s 17ms/step - loss: 65.8083 - val_loss: 31.0138\n",
      "Epoch 4/20\n",
      "250/250 [==============================] - 4s 17ms/step - loss: 19.5686 - val_loss: 16.7676\n",
      "Epoch 5/20\n",
      "250/250 [==============================] - 4s 17ms/step - loss: 10.6960 - val_loss: 10.1189\n",
      "Epoch 6/20\n",
      "250/250 [==============================] - 4s 17ms/step - loss: 7.2272 - val_loss: 5.9274\n",
      "Epoch 7/20\n",
      "250/250 [==============================] - 4s 16ms/step - loss: 5.0759 - val_loss: 5.7665\n",
      "Epoch 8/20\n",
      "250/250 [==============================] - 4s 16ms/step - loss: 3.9204 - val_loss: 5.4767\n",
      "Epoch 9/20\n",
      "250/250 [==============================] - 4s 17ms/step - loss: 3.0866 - val_loss: 4.7292\n",
      "Epoch 10/20\n",
      "250/250 [==============================] - 4s 16ms/step - loss: 2.2541 - val_loss: 2.3033\n",
      "Epoch 11/20\n",
      "250/250 [==============================] - 4s 16ms/step - loss: 1.7942 - val_loss: 1.6408\n",
      "Epoch 12/20\n",
      "250/250 [==============================] - 4s 16ms/step - loss: 1.6995 - val_loss: 1.3958\n",
      "Epoch 13/20\n",
      "250/250 [==============================] - 4s 17ms/step - loss: 1.2019 - val_loss: 1.0984\n",
      "Epoch 14/20\n",
      "250/250 [==============================] - 4s 17ms/step - loss: 1.2886 - val_loss: 0.9551\n",
      "Epoch 15/20\n",
      "250/250 [==============================] - 4s 17ms/step - loss: 1.0090 - val_loss: 0.7718\n",
      "Epoch 16/20\n",
      "250/250 [==============================] - 4s 16ms/step - loss: 0.7690 - val_loss: 0.6281\n",
      "Epoch 17/20\n",
      "250/250 [==============================] - 4s 16ms/step - loss: 0.7190 - val_loss: 0.6605\n",
      "Epoch 18/20\n",
      "250/250 [==============================] - 4s 17ms/step - loss: 0.5615 - val_loss: 0.5123\n",
      "Epoch 19/20\n",
      "250/250 [==============================] - 4s 17ms/step - loss: 0.4988 - val_loss: 0.4112\n",
      "Epoch 20/20\n",
      "250/250 [==============================] - 4s 17ms/step - loss: 0.4357 - val_loss: 0.4548\n"
     ]
    },
    {
     "data": {
      "text/plain": [
       "<keras.callbacks.History at 0x7f6f801754f0>"
      ]
     },
     "execution_count": 22,
     "metadata": {},
     "output_type": "execute_result"
    }
   ],
   "source": [
    "gru_model.fit(X, y, epochs=20, validation_split=0.2, verbose=1)"
   ]
  },
  {
   "cell_type": "markdown",
   "id": "0e90a303",
   "metadata": {},
   "source": [
    "# More examples to help LSTM"
   ]
  },
  {
   "cell_type": "code",
   "execution_count": 76,
   "id": "bd677176",
   "metadata": {},
   "outputs": [],
   "source": [
    "n_samples = 100000\n",
    "seq_length = 30  # Long enough to introduce long-term dependencies\n",
    "\n",
    "X, y = generate_sequences(n_samples, seq_length)"
   ]
  },
  {
   "cell_type": "code",
   "execution_count": 77,
   "id": "afe75750",
   "metadata": {},
   "outputs": [
    {
     "name": "stdout",
     "output_type": "stream",
     "text": [
      "Epoch 1/5\n",
      "2500/2500 [==============================] - 23s 9ms/step - loss: 633.6190 - val_loss: 37.2986\n",
      "Epoch 2/5\n",
      "2500/2500 [==============================] - 22s 9ms/step - loss: 16.9527 - val_loss: 6.9405\n",
      "Epoch 3/5\n",
      "2500/2500 [==============================] - 21s 9ms/step - loss: 5.0911 - val_loss: 1.9730\n",
      "Epoch 4/5\n",
      "2500/2500 [==============================] - 22s 9ms/step - loss: 2.5135 - val_loss: 0.9805\n",
      "Epoch 5/5\n",
      "2500/2500 [==============================] - 22s 9ms/step - loss: 1.8655 - val_loss: 0.5710\n"
     ]
    },
    {
     "data": {
      "text/plain": [
       "<keras.callbacks.History at 0x7f6d88632640>"
      ]
     },
     "execution_count": 77,
     "metadata": {},
     "output_type": "execute_result"
    }
   ],
   "source": [
    "build_rnn_model((seq_length, 1)).fit(X, y, epochs=5, validation_split=0.2, verbose=1)"
   ]
  },
  {
   "cell_type": "code",
   "execution_count": 25,
   "id": "ba7f4800",
   "metadata": {},
   "outputs": [
    {
     "name": "stdout",
     "output_type": "stream",
     "text": [
      "Epoch 1/5\n",
      "2500/2500 [==============================] - 37s 14ms/step - loss: 1039.1082 - val_loss: 37.2756\n",
      "Epoch 2/5\n",
      "2500/2500 [==============================] - 35s 14ms/step - loss: 13.3431 - val_loss: 3.0535\n",
      "Epoch 3/5\n",
      "2500/2500 [==============================] - 35s 14ms/step - loss: 2.6434 - val_loss: 1.2574\n",
      "Epoch 4/5\n",
      "2500/2500 [==============================] - 35s 14ms/step - loss: 1.0377 - val_loss: 0.4706\n",
      "Epoch 5/5\n",
      "2500/2500 [==============================] - 35s 14ms/step - loss: 0.6007 - val_loss: 0.5032\n"
     ]
    },
    {
     "data": {
      "text/plain": [
       "<keras.callbacks.History at 0x7f6f80ef3850>"
      ]
     },
     "execution_count": 25,
     "metadata": {},
     "output_type": "execute_result"
    }
   ],
   "source": [
    "build_lstm_model((seq_length, 1)).fit(X, y, epochs=5, validation_split=0.2, verbose=1)"
   ]
  },
  {
   "cell_type": "code",
   "execution_count": 26,
   "id": "5ddc6742",
   "metadata": {},
   "outputs": [
    {
     "name": "stdout",
     "output_type": "stream",
     "text": [
      "Epoch 1/5\n",
      "2500/2500 [==============================] - 42s 16ms/step - loss: 323.9641 - val_loss: 19.8809\n",
      "Epoch 2/5\n",
      "2500/2500 [==============================] - 40s 16ms/step - loss: 10.5391 - val_loss: 4.0432\n",
      "Epoch 3/5\n",
      "2500/2500 [==============================] - 40s 16ms/step - loss: 2.2392 - val_loss: 1.3116\n",
      "Epoch 4/5\n",
      "2500/2500 [==============================] - 41s 16ms/step - loss: 0.5801 - val_loss: 0.3229\n",
      "Epoch 5/5\n",
      "2500/2500 [==============================] - 41s 16ms/step - loss: 0.1927 - val_loss: 0.1607\n"
     ]
    },
    {
     "data": {
      "text/plain": [
       "<keras.callbacks.History at 0x7f6f80e421c0>"
      ]
     },
     "execution_count": 26,
     "metadata": {},
     "output_type": "execute_result"
    }
   ],
   "source": [
    "build_gru_model((seq_length, 1)).fit(X, y, epochs=5, validation_split=0.2, verbose=1)"
   ]
  },
  {
   "cell_type": "markdown",
   "id": "5a5743ec",
   "metadata": {},
   "source": [
    "## On very simple problems"
   ]
  },
  {
   "cell_type": "code",
   "execution_count": 55,
   "id": "56d553c8",
   "metadata": {},
   "outputs": [],
   "source": [
    "n_samples = 10000\n",
    "seq_length = 30  # Long enough to introduce long-term dependencies\n",
    "\n",
    "def generate_sequences2(n_samples, seq_length, max_val=100):\n",
    "    X = np.random.randint(1, max_val, size=(n_samples, seq_length))\n",
    "    y = X[:, -1]  # Sum of the first and last elements\n",
    "    X = np.expand_dims(X, axis=2)  # Adding the feature axis for LSTM compatibility\n",
    "    return X, y\n",
    "\n",
    "X, y = generate_sequences2(n_samples, seq_length, 100)"
   ]
  },
  {
   "cell_type": "code",
   "execution_count": 56,
   "id": "0b59a8d8",
   "metadata": {},
   "outputs": [
    {
     "name": "stdout",
     "output_type": "stream",
     "text": [
      "Epoch 1/5\n",
      "250/250 [==============================] - 4s 10ms/step - loss: 663.5219 - val_loss: 5.9795\n",
      "Epoch 2/5\n",
      "250/250 [==============================] - 2s 9ms/step - loss: 2.1176 - val_loss: 0.3256\n",
      "Epoch 3/5\n",
      "250/250 [==============================] - 2s 9ms/step - loss: 0.1621 - val_loss: 0.0817\n",
      "Epoch 4/5\n",
      "250/250 [==============================] - 2s 9ms/step - loss: 0.0775 - val_loss: 0.0529\n",
      "Epoch 5/5\n",
      "250/250 [==============================] - 2s 9ms/step - loss: 0.0519 - val_loss: 0.0367\n"
     ]
    },
    {
     "data": {
      "text/plain": [
       "<keras.callbacks.History at 0x7f6f823066a0>"
      ]
     },
     "execution_count": 56,
     "metadata": {},
     "output_type": "execute_result"
    }
   ],
   "source": [
    "build_rnn_model((seq_length, 1)).fit(X, y, epochs=5, validation_split=0.2, verbose=1)"
   ]
  },
  {
   "cell_type": "code",
   "execution_count": 57,
   "id": "21425e6e",
   "metadata": {},
   "outputs": [
    {
     "name": "stdout",
     "output_type": "stream",
     "text": [
      "Epoch 1/5\n",
      "250/250 [==============================] - 5s 15ms/step - loss: 997.6889 - val_loss: 38.4038\n",
      "Epoch 2/5\n",
      "250/250 [==============================] - 4s 15ms/step - loss: 21.7643 - val_loss: 13.2336\n",
      "Epoch 3/5\n",
      "250/250 [==============================] - 4s 14ms/step - loss: 10.0511 - val_loss: 7.5928\n",
      "Epoch 4/5\n",
      "250/250 [==============================] - 4s 15ms/step - loss: 5.9081 - val_loss: 4.6254\n",
      "Epoch 5/5\n",
      "250/250 [==============================] - 4s 15ms/step - loss: 3.9016 - val_loss: 3.0073\n"
     ]
    },
    {
     "data": {
      "text/plain": [
       "<keras.callbacks.History at 0x7f6fa42b9f10>"
      ]
     },
     "execution_count": 57,
     "metadata": {},
     "output_type": "execute_result"
    }
   ],
   "source": [
    "build_lstm_model((seq_length, 1)).fit(X, y, epochs=5, validation_split=0.2, verbose=1)"
   ]
  },
  {
   "cell_type": "code",
   "execution_count": 58,
   "id": "c4cb276a",
   "metadata": {
    "scrolled": true
   },
   "outputs": [
    {
     "name": "stdout",
     "output_type": "stream",
     "text": [
      "Epoch 1/5\n",
      "250/250 [==============================] - 6s 17ms/step - loss: 1501.7375 - val_loss: 58.1255\n",
      "Epoch 2/5\n",
      "250/250 [==============================] - 4s 17ms/step - loss: 36.8674 - val_loss: 23.8366\n",
      "Epoch 3/5\n",
      "250/250 [==============================] - 4s 16ms/step - loss: 19.9986 - val_loss: 15.1954\n",
      "Epoch 4/5\n",
      "250/250 [==============================] - 4s 17ms/step - loss: 13.3146 - val_loss: 11.4154\n",
      "Epoch 5/5\n",
      "250/250 [==============================] - 4s 17ms/step - loss: 9.1173 - val_loss: 7.3787\n"
     ]
    },
    {
     "data": {
      "text/plain": [
       "<keras.callbacks.History at 0x7f6f808c4a00>"
      ]
     },
     "execution_count": 58,
     "metadata": {},
     "output_type": "execute_result"
    }
   ],
   "source": [
    "build_gru_model((seq_length, 1)).fit(X, y, epochs=5, validation_split=0.2, verbose=1)"
   ]
  },
  {
   "cell_type": "markdown",
   "id": "097bc786",
   "metadata": {},
   "source": [
    "## On long term problems"
   ]
  },
  {
   "cell_type": "code",
   "execution_count": 72,
   "id": "b8eaf3b3",
   "metadata": {},
   "outputs": [],
   "source": [
    "n_samples = 10000\n",
    "seq_length = 100  # Long enough to introduce long-term dependencies\n",
    "\n",
    "def generate_sequences3(n_samples, seq_length, max_val=100):\n",
    "    X = np.random.randint(1, max_val, size=(n_samples, seq_length))\n",
    "    y = X[:, 0] + X[:, 1] + X[:, 2]\n",
    "    X = np.expand_dims(X, axis=2)  \n",
    "    return X, y\n",
    "\n",
    "X, y = generate_sequences3(n_samples, seq_length, 100)"
   ]
  },
  {
   "cell_type": "code",
   "execution_count": 73,
   "id": "c049fc1a",
   "metadata": {},
   "outputs": [
    {
     "name": "stdout",
     "output_type": "stream",
     "text": [
      "Epoch 1/5\n",
      "250/250 [==============================] - 7s 24ms/step - loss: 6549.9546 - val_loss: 2654.1035\n",
      "Epoch 2/5\n",
      "250/250 [==============================] - 6s 23ms/step - loss: 2725.4915 - val_loss: 2847.1304\n",
      "Epoch 3/5\n",
      "250/250 [==============================] - 6s 23ms/step - loss: 2630.6208 - val_loss: 2004.0283\n",
      "Epoch 4/5\n",
      "250/250 [==============================] - 6s 23ms/step - loss: 1573.5228 - val_loss: 874.3716\n",
      "Epoch 5/5\n",
      "250/250 [==============================] - 6s 23ms/step - loss: 871.8751 - val_loss: 667.7399\n"
     ]
    },
    {
     "data": {
      "text/plain": [
       "<keras.callbacks.History at 0x7f6d905d2190>"
      ]
     },
     "execution_count": 73,
     "metadata": {},
     "output_type": "execute_result"
    }
   ],
   "source": [
    "build_rnn_model((seq_length, 1)).fit(X, y, epochs=5, validation_split=0.2, verbose=1)"
   ]
  },
  {
   "cell_type": "code",
   "execution_count": 74,
   "id": "510e5dde",
   "metadata": {},
   "outputs": [
    {
     "name": "stdout",
     "output_type": "stream",
     "text": [
      "Epoch 1/5\n",
      "250/250 [==============================] - 11s 40ms/step - loss: 19790.5039 - val_loss: 9732.3975\n",
      "Epoch 2/5\n",
      "250/250 [==============================] - 10s 40ms/step - loss: 6470.4263 - val_loss: 3079.5735\n",
      "Epoch 3/5\n",
      "250/250 [==============================] - 10s 40ms/step - loss: 2629.3291 - val_loss: 2453.9272\n",
      "Epoch 4/5\n",
      "250/250 [==============================] - 10s 40ms/step - loss: 2438.9719 - val_loss: 2437.5972\n",
      "Epoch 5/5\n",
      "250/250 [==============================] - 10s 40ms/step - loss: 2434.8552 - val_loss: 2437.5847\n"
     ]
    },
    {
     "data": {
      "text/plain": [
       "<keras.callbacks.History at 0x7f6d9033de50>"
      ]
     },
     "execution_count": 74,
     "metadata": {},
     "output_type": "execute_result"
    }
   ],
   "source": [
    "build_lstm_model((seq_length, 1)).fit(X, y, epochs=5, validation_split=0.2, verbose=1)"
   ]
  },
  {
   "cell_type": "code",
   "execution_count": 75,
   "id": "ef85b504",
   "metadata": {
    "scrolled": true
   },
   "outputs": [
    {
     "name": "stdout",
     "output_type": "stream",
     "text": [
      "Epoch 1/5\n",
      "250/250 [==============================] - 13s 46ms/step - loss: 7017.3047 - val_loss: 2296.5552\n",
      "Epoch 2/5\n",
      "250/250 [==============================] - 11s 46ms/step - loss: 665.6036 - val_loss: 123.1792\n",
      "Epoch 3/5\n",
      "250/250 [==============================] - 12s 46ms/step - loss: 100.6815 - val_loss: 75.6668\n",
      "Epoch 4/5\n",
      "250/250 [==============================] - 12s 46ms/step - loss: 58.9277 - val_loss: 51.6402\n",
      "Epoch 5/5\n",
      "250/250 [==============================] - 12s 46ms/step - loss: 42.1030 - val_loss: 39.3242\n"
     ]
    },
    {
     "data": {
      "text/plain": [
       "<keras.callbacks.History at 0x7f6d900bd9a0>"
      ]
     },
     "execution_count": 75,
     "metadata": {},
     "output_type": "execute_result"
    }
   ],
   "source": [
    "build_gru_model((seq_length, 1)).fit(X, y, epochs=5, validation_split=0.2, verbose=1)"
   ]
  },
  {
   "cell_type": "code",
   "execution_count": null,
   "id": "10b0ccf6",
   "metadata": {},
   "outputs": [],
   "source": []
  }
 ],
 "metadata": {
  "kernelspec": {
   "display_name": "Python [conda env:python_lectures]",
   "language": "python",
   "name": "conda-env-python_lectures-py"
  },
  "language_info": {
   "codemirror_mode": {
    "name": "ipython",
    "version": 3
   },
   "file_extension": ".py",
   "mimetype": "text/x-python",
   "name": "python",
   "nbconvert_exporter": "python",
   "pygments_lexer": "ipython3",
   "version": "3.8.16"
  }
 },
 "nbformat": 4,
 "nbformat_minor": 5
}
